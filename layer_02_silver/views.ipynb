{
 "cells": [
  {
   "cell_type": "code",
   "execution_count": 0,
   "metadata": {
    "application/vnd.databricks.v1+cell": {
     "cellMetadata": {
      "byteLimit": 2048000,
      "rowLimit": 10000
     },
     "inputWidgets": {},
     "nuid": "540bbff0-2837-4535-8704-fd7ea64c0a95",
     "showTitle": false,
     "tableResultSettingsMap": {},
     "title": ""
    }
   },
   "outputs": [],
   "source": [
    "create\n",
    "or replace view edsm.silver.v_powerPlay as\n",
    "select\n",
    "  to_date(from_utc_timestamp(valid_from,'America/New_York')) as valid_from,\n",
    "  to_date(from_utc_timestamp(valid_to,'America/New_York')) as valid_to,\n",
    "  powerplay.* except (valid_from, valid_to)\n",
    "from\n",
    "  edsm.silver.powerplay powerplay;"
   ]
  },
  {
   "cell_type": "code",
   "execution_count": 0,
   "metadata": {
    "application/vnd.databricks.v1+cell": {
     "cellMetadata": {},
     "inputWidgets": {},
     "nuid": "f4235661-a735-4011-8089-3ada797abbec",
     "showTitle": false,
     "tableResultSettingsMap": {},
     "title": ""
    }
   },
   "outputs": [],
   "source": [
    "create\n",
    "or replace view edsm.silver.v_stations as\n",
    "select\n",
    "  to_date(from_utc_timestamp(valid_from,'America/New_York')) as valid_from,\n",
    "  to_date(from_utc_timestamp(valid_to,'America/New_York')) as valid_to,\n",
    "  stations.* except (valid_from, valid_to)\n",
    "from\n",
    "  edsm.silver.stations stations;"
   ]
  }
 ],
 "metadata": {
  "application/vnd.databricks.v1+notebook": {
   "computePreferences": null,
   "dashboards": [],
   "environmentMetadata": {
    "base_environment": "",
    "environment_version": "2"
   },
   "inputWidgetPreferences": null,
   "language": "sql",
   "notebookMetadata": {
    "pythonIndentUnit": 4
   },
   "notebookName": "views",
   "widgets": {}
  },
  "language_info": {
   "name": "sql"
  }
 },
 "nbformat": 4,
 "nbformat_minor": 0
}
