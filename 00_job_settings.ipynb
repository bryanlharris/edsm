{
 "cells": [
  {
   "cell_type": "code",
   "execution_count": 0,
   "metadata": {
    "application/vnd.databricks.v1+cell": {
     "cellMetadata": {
      "byteLimit": 2048000,
      "rowLimit": 10000
     },
     "inputWidgets": {},
     "nuid": "ca54754c-332e-4e52-ae3b-50f40ddc6684",
     "showTitle": false,
     "tableResultSettingsMap": {},
     "title": ""
    }
   },
   "outputs": [],
   "source": [
    "import os\n",
    "import json\n",
    "from glob import glob\n",
    "\n",
    "# Save the project root folder for other tasks to use\n",
    "project_root = os.getcwd()\n",
    "dbutils.jobs.taskValues.set(key=\"project_root\", value=project_root)\n",
    "\n",
    "# Load anything in layer_*_<color>/*.json\n",
    "job_settings = {}\n",
    "for color in [ \"bronze\", \"silver\", \"gold\" ]:\n",
    "    paths = glob(f'./layer_*_{color}/*.json')\n",
    "    job_settings[color] = [{\"table\": path.split('/')[-1].split('.')[0]} for path in paths]\n",
    "for key, value in job_settings.items():\n",
    "    dbutils.jobs.taskValues.set(key=key, value=value)\n",
    "\n",
    "# Load anything in layer_*/*.json if it has a key \"dst_table_name\"\n",
    "history_settings = []\n",
    "for p in glob('./layer_*/*.json'):\n",
    "    with open(p) as f:\n",
    "        data = json.load(f)\n",
    "        if str(data.get(\"build_history\", \"false\")).lower() == \"true\":\n",
    "            history_settings.append({'full_table_name': data['dst_table_name']})\n",
    "dbutils.jobs.taskValues.set(key=\"history_settings\", value=history_settings)"
   ]
  }
 ],
 "metadata": {
  "application/vnd.databricks.v1+notebook": {
   "computePreferences": {
    "hardware": {
     "accelerator": null,
     "gpuPoolId": null,
     "memory": null
    }
   },
   "dashboards": [],
   "environmentMetadata": {
    "base_environment": "",
    "environment_version": "2"
   },
   "inputWidgetPreferences": null,
   "language": "python",
   "notebookMetadata": {
    "mostRecentlyExecutedCommandWithImplicitDF": {
     "commandId": 4827367985281887,
     "dataframes": [
      "_sqldf"
     ]
    },
    "pythonIndentUnit": 4
   },
   "notebookName": "00_job_settings",
   "widgets": {}
  },
  "language_info": {
   "name": "python"
  }
 },
 "nbformat": 4,
 "nbformat_minor": 0
}
