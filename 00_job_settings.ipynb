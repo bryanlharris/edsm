{
 "cells": [
  {
   "cell_type": "code",
   "execution_count": 0,
   "metadata": {
    "application/vnd.databricks.v1+cell": {
     "cellMetadata": {
      "byteLimit": 2048000,
      "rowLimit": 10000
     },
     "inputWidgets": {},
     "nuid": "ca54754c-332e-4e52-ae3b-50f40ddc6684",
     "showTitle": false,
     "tableResultSettingsMap": {},
     "title": ""
    }
   },
   "outputs": [],
   "source": [
    "import json\n",
    "from glob import glob\n",
    "from functions.sanity import validate_settings, initialize_schemas_and_volumes, initialize_empty_tables\n",
    "from functions.utility import apply_job_type\n",
    "\n",
    "layers = [\n",
    "    (\"layer_01_bronze\", \"bronze\"),\n",
    "    (\"layer_01_bronze_history\", \"bronze_history\"),\n",
    "    (\"layer_02_silver\", \"silver\"),\n",
    "    (\"layer_02_silver_samples\", \"silver_samples\"),\n",
    "    (\"layer_03_gold\", \"gold\"),\n",
    "]\n",
    "\n",
    "job_settings = {color: [] for _, color in layers}\n",
    "silver_parallel = []\n",
    "silver_sequential = []\n",
    "\n",
    "for layer_path, color in layers:\n",
    "    paths = glob(f'./{layer_path}/*.json')\n",
    "    for path in paths:\n",
    "        table_name = path.split('/')[-1].split('.')[0]\n",
    "        with open(path) as f:\n",
    "            settings = json.load(f)\n",
    "        settings = apply_job_type(settings)\n",
    "        entry = {'table': table_name}\n",
    "        if color == 'silver':\n",
    "            requires = settings.get('requires', [])\n",
    "            if requires:\n",
    "                entry['requires'] = requires\n",
    "                silver_sequential.append(entry)\n",
    "            else:\n",
    "                silver_parallel.append(entry)\n",
    "        job_settings[color].append(entry)\n",
    "\n",
    "for key, value in job_settings.items():\n",
    "    dbutils.jobs.taskValues.set(key=key, value=value)\n",
    "\n",
    "dbutils.jobs.taskValues.set(key='silver_parallel', value=silver_parallel)\n",
    "dbutils.jobs.taskValues.set(key='silver_sequential', value=silver_sequential)\n",
    "\n",
    "# Sanity check\n",
    "validate_settings(dbutils)\n",
    "initialize_schemas_and_volumes(spark)\n",
    "initialize_empty_tables(spark)\n",
    "\n"
   ]
  }
 ],
 "metadata": {
  "application/vnd.databricks.v1+notebook": {
   "computePreferences": {
    "hardware": {
     "accelerator": null,
     "gpuPoolId": null,
     "memory": null
    }
   },
   "dashboards": [],
   "environmentMetadata": {
    "base_environment": "",
    "environment_version": "3"
   },
   "inputWidgetPreferences": null,
   "language": "python",
   "notebookMetadata": {
    "mostRecentlyExecutedCommandWithImplicitDF": {
     "commandId": 4827367985281887,
     "dataframes": [
      "_sqldf"
     ]
    },
    "pythonIndentUnit": 4
   },
   "notebookName": "00_job_settings",
   "widgets": {}
  },
  "language_info": {
   "name": "python"
  }
 },
 "nbformat": 4,
 "nbformat_minor": 0
}