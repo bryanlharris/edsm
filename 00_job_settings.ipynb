{
 "cells": [
  {
   "cell_type": "code",
   "execution_count": 0,
   "metadata": {
    "application/vnd.databricks.v1+cell": {
     "cellMetadata": {
      "byteLimit": 2048000,
      "rowLimit": 10000
     },
     "inputWidgets": {},
     "nuid": "ca54754c-332e-4e52-ae3b-50f40ddc6684",
     "showTitle": false,
     "tableResultSettingsMap": {},
     "title": ""
    }
   },
   "outputs": [],
   "source": [
    "import json\n",
    "from glob import glob\n",
    "from functions.sanity import validate_settings, initialize_empty_tables\n",
    "from functions.utility import apply_job_type\n",
    "\n",
    "# Load anything in layer_*_<color>/*.json\n",
    "job_settings = {}\n",
    "for color in [ 'bronze', 'silver', 'gold' ]:\n",
    "    paths = glob(f'./layer_*_{color}/*.json')\n",
    "    job_settings[color] = []\n",
    "    for path in paths:\n",
    "        table_name = path.split('/')[-1].split('.')[0]\n",
    "        with open(path) as f:\n",
    "            settings = json.load(f)\n",
    "        settings = apply_job_type(settings)\n",
    "        history = {\n",
    "            'build_history': settings.get('build_history', 'false'),\n",
    "            'history_schema': settings.get('history_schema'),\n",
    "            'full_table_name': settings.get('dst_table_name'),\n",
    "        }\n",
    "        job_settings[color].append({'table': table_name, 'history': history})\n",
    "for key, value in job_settings.items():\n",
    "    dbutils.jobs.taskValues.set(key=key, value=value)\n",
    "\n",
    "# Load anything in layer_*/*.json if it has a key 'dst_table_name'\n",
    "history_settings = []\n",
    "for p in glob('./layer_*/*.json'):\n",
    "    with open(p) as f:\n",
    "        settings = json.load(f)\n",
    "        settings = apply_job_type(settings)\n",
    "        if str(settings.get('build_history', 'false')).lower() == 'true':\n",
    "            entry = {'full_table_name': settings['dst_table_name']}\n",
    "            if 'history_schema' in settings:\n",
    "                entry['history_schema'] = settings['history_schema']\n",
    "            history_settings.append(entry)\n",
    "dbutils.jobs.taskValues.set(key='history_settings', value=history_settings)\n",
    "\n",
    "# Sanity check\n",
    "validate_settings(dbutils)\n",
    "initialize_empty_tables(spark)\n",
    "\n"
   ]
  }
 ],
 "metadata": {
  "application/vnd.databricks.v1+notebook": {
   "computePreferences": {
    "hardware": {
     "accelerator": null,
     "gpuPoolId": null,
     "memory": null
    }
   },
   "dashboards": [],
   "environmentMetadata": {
    "base_environment": "",
    "environment_version": "2"
   },
   "inputWidgetPreferences": null,
   "language": "python",
   "notebookMetadata": {
    "mostRecentlyExecutedCommandWithImplicitDF": {
     "commandId": 4827367985281887,
     "dataframes": [
      "_sqldf"
     ]
    },
    "pythonIndentUnit": 4
   },
   "notebookName": "00_job_settings",
   "widgets": {}
  },
  "language_info": {
   "name": "python"
  }
 },
 "nbformat": 4,
 "nbformat_minor": 0
}
