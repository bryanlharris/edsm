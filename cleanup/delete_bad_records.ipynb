{
 "cells": [
  {
   "cell_type": "code",
   "execution_count": 0,
   "metadata": {
    "application/vnd.databricks.v1+cell": {
     "cellMetadata": {
      "byteLimit": 2048000,
      "rowLimit": 10000
     },
     "inputWidgets": {},
     "nuid": "00000000-0000-0000-0000-000000000000",
     "showTitle": false,
     "tableResultSettingsMap": {},
     "title": ""
    }
   },
   "outputs": [],
   "source": [
    "import shutil\n",
    "from pathlib import Path\n",
    "\n",
    "def drop_bronze_bad_records_tables(spark, catalog):\n",
    "    spark.sql(f'use catalog {catalog}')\n",
    "    system_schemas = ['information_schema', 'sys']\n",
    "    schemas = [row.databaseName for row in spark.sql(f'SHOW SCHEMAS IN {catalog}').collect()]\n",
    "    for schema in schemas:\n",
    "        if schema in system_schemas or not schema.startswith('bronze'):\n",
    "            continue\n",
    "        tables = spark.sql(f'SHOW TABLES IN {catalog}.{schema}').filter('isTemporary = false')\n",
    "        for row in tables.collect():\n",
    "            if row.tableName.endswith('_bad_records'):\n",
    "                spark.sql(f'DROP TABLE IF EXISTS {catalog}.{schema}.{row.tableName}')\n",
    "                print(f'Dropped {catalog}.{schema}.{row.tableName}')\n",
    "\n",
    "def remove_utility_bad_records_files(catalog):\n",
    "    base = Path(f'/Volumes/{catalog}')\n",
    "    for path in base.rglob('_badRecords'):\n",
    "        if path.is_dir():\n",
    "            shutil.rmtree(path, ignore_errors=True)\n",
    "            print(f'Removed {path}')\n",
    "        else:\n",
    "            path.unlink(missing_ok=True)\n",
    "            print(f'Removed {path}')\n",
    "\n",
    "drop_bronze_bad_records_tables(spark, 'edsm')\n",
    "remove_utility_bad_records_files('edsm')\n"
   ]
  }
 ],
 "metadata": {
  "application/vnd.databricks.v1+notebook": {
   "computePreferences": {
    "hardware": {
     "accelerator": null,
     "gpuPoolId": null,
     "memory": null
    }
   },
   "dashboards": [],
   "environmentMetadata": {
    "base_environment": "",
    "environment_version": "3"
   },
   "inputWidgetPreferences": null,
   "language": "python",
   "notebookMetadata": {
    "pythonIndentUnit": 4
   },
   "notebookName": "delete_bad_records",
   "widgets": {}
  },
  "language_info": {
   "name": "python"
  }
 },
 "nbformat": 4,
 "nbformat_minor": 0
}