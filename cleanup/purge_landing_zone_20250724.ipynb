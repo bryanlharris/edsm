{
  "cells": [
    {
      "cell_type": "code",
      "execution_count": 0,
      "metadata": {
        "application/vnd.databricks.v1+cell": {
          "nuid": "00000000-0000-0000-0000-000000000000",
          "showTitle": false,
          "tableResultSettingsMap": {},
          "title": "",
          "inputWidgets": {},
          "cellMetadata": {
            "byteLimit": 2048000,
            "rowLimit": 10000
          }
        }
      },
      "outputs": [],
      "source": [
        "%sh\n",
        "rm -rf /Volumes/edsm/bronze/landing/data/20250724\n",
        "rm -rf /Volumes/edsm/bronze/landing/markers/20250724\n"
      ]
    }
  ],
  "metadata": {
    "application/vnd.databricks.v1+notebook": {
      "computePreferences": null,
      "dashboards": [],
      "environmentMetadata": {
        "base_environment": "",
        "environment_version": "3"
      },
      "inputWidgetPreferences": null,
      "language": "python",
      "notebookMetadata": {
        "pythonIndentUnit": 4
      },
      "notebookName": "purge_landing_zone_20250724",
      "widgets": {}
    },
    "language_info": {
      "name": "python"
    }
  },
  "nbformat": 4,
  "nbformat_minor": 0
}