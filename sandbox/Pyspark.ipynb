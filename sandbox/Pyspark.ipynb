{
 "cells": [
  {
   "cell_type": "code",
   "execution_count": 0,
   "metadata": {
    "application/vnd.databricks.v1+cell": {
     "cellMetadata": {
      "byteLimit": 2048000,
      "rowLimit": 10000
     },
     "inputWidgets": {},
     "nuid": "4879d5c4-77dd-4256-9b73-8b52b1d38a9a",
     "showTitle": false,
     "tableResultSettingsMap": {},
     "title": ""
    }
   },
   "outputs": [],
   "source": [
    "import os\n",
    "import sys\n",
    "\n",
    "sys.path.append(f\"{os.getcwd()}/..\")"
   ]
  },
  {
   "cell_type": "code",
   "execution_count": 0,
   "metadata": {
    "application/vnd.databricks.v1+cell": {
     "cellMetadata": {
      "byteLimit": 2048000,
      "rowLimit": 10000
     },
     "collapsed": true,
     "inputWidgets": {},
     "nuid": "66392eb7-dd65-4565-b93d-dc996db9f0b9",
     "showTitle": false,
     "tableResultSettingsMap": {},
     "title": ""
    }
   },
   "outputs": [],
   "source": [
    "import json\n",
    "\n",
    "settings = json.loads(\"\"\"\n",
    "{\n",
    "    \"read_function\": \"functions.stream_read_cloudfiles\",\n",
    "    \"transform_function\": \"functions.bronze_standard_transform\",\n",
    "    \"write_function\": \"functions.stream_write_table\",\n",
    "    \"dst_table_name\": \"edsm.bronze.powerPlay\",\n",
    "    \"build_history\": \"true\",\n",
    "    \"readStream_load\": \"/Volumes/edsm/bronze/landing/\",\n",
    "    \"readStreamOptions\": {\n",
    "        \"cloudFiles.format\": \"json\",\n",
    "        \"pathGlobFilter\": \"powerPlay.json\",\n",
    "        \"cloudFiles.inferColumnTypes\": \"false\",\n",
    "        \"inferSchema\": \"false\",\n",
    "        \"cloudFiles.schemaLocation\": \"/Volumes/edsm/bronze/utility/powerPlay/_schema/\",\n",
    "        \"multiline\": \"false\",\n",
    "        \"badRecordsPath\": \"/Volumes/edsm/bronze/utility/powerPlay/_badRecords/\",\n",
    "        \"cloudFiles.rescuedDataColumn\": \"_rescued_data\"\n",
    "    },\n",
    "    \"writeStream_format\": \"delta\",\n",
    "    \"writeStreamOptions\": {\n",
    "        \"mergeSchema\": \"false\",\n",
    "        \"checkpointLocation\": \"/Volumes/edsm/bronze/utility/powerPlay/_checkpoints/\",\n",
    "        \"delta.columnMapping.mode\": \"name\"\n",
    "    },\n",
    "    \"writeStream_outputMode\": \"append\",\n",
    "    \"file_schema\": {\n",
    "        \"fields\": [\n",
    "            {\n",
    "                \"metadata\": {},\n",
    "                \"name\": \"allegiance\",\n",
    "                \"nullable\": true,\n",
    "                \"type\": \"string\"\n",
    "            },\n",
    "            {\n",
    "                \"metadata\": {},\n",
    "                \"name\": \"coords\",\n",
    "                \"nullable\": true,\n",
    "                \"type\": {\n",
    "                    \"fields\": [\n",
    "                        {\n",
    "                            \"metadata\": {},\n",
    "                            \"name\": \"x\",\n",
    "                            \"nullable\": true,\n",
    "                            \"type\": \"double\"\n",
    "                        },\n",
    "                        {\n",
    "                            \"metadata\": {},\n",
    "                            \"name\": \"y\",\n",
    "                            \"nullable\": true,\n",
    "                            \"type\": \"double\"\n",
    "                        },\n",
    "                        {\n",
    "                            \"metadata\": {},\n",
    "                            \"name\": \"z\",\n",
    "                            \"nullable\": true,\n",
    "                            \"type\": \"double\"\n",
    "                        }\n",
    "                    ],\n",
    "                    \"type\": \"struct\"\n",
    "                }\n",
    "            },\n",
    "            {\n",
    "                \"metadata\": {},\n",
    "                \"name\": \"date\",\n",
    "                \"nullable\": true,\n",
    "                \"type\": \"string\"\n",
    "            },\n",
    "            {\n",
    "                \"metadata\": {},\n",
    "                \"name\": \"government\",\n",
    "                \"nullable\": true,\n",
    "                \"type\": \"string\"\n",
    "            },\n",
    "            {\n",
    "                \"metadata\": {},\n",
    "                \"name\": \"id\",\n",
    "                \"nullable\": true,\n",
    "                \"type\": \"long\"\n",
    "            },\n",
    "            {\n",
    "                \"metadata\": {},\n",
    "                \"name\": \"id64\",\n",
    "                \"nullable\": true,\n",
    "                \"type\": \"long\"\n",
    "            },\n",
    "            {\n",
    "                \"metadata\": {},\n",
    "                \"name\": \"name\",\n",
    "                \"nullable\": true,\n",
    "                \"type\": \"string\"\n",
    "            },\n",
    "            {\n",
    "                \"metadata\": {},\n",
    "                \"name\": \"power\",\n",
    "                \"nullable\": true,\n",
    "                \"type\": \"string\"\n",
    "            },\n",
    "            {\n",
    "                \"metadata\": {},\n",
    "                \"name\": \"powerState\",\n",
    "                \"nullable\": true,\n",
    "                \"type\": \"string\"\n",
    "            },\n",
    "            {\n",
    "                \"metadata\": {},\n",
    "                \"name\": \"state\",\n",
    "                \"nullable\": true,\n",
    "                \"type\": \"string\"\n",
    "            },\n",
    "            {\n",
    "                \"metadata\": {},\n",
    "                \"name\": \"_rescued_data\",\n",
    "                \"nullable\": true,\n",
    "                \"type\": \"string\"\n",
    "            }\n",
    "        ],\n",
    "        \"type\": \"struct\"\n",
    "    }\n",
    "}\n",
    "\"\"\")"
   ]
  },
  {
   "cell_type": "code",
   "execution_count": 0,
   "metadata": {
    "application/vnd.databricks.v1+cell": {
     "cellMetadata": {
      "byteLimit": 2048000,
      "rowLimit": 10000
     },
     "inputWidgets": {},
     "nuid": "d585a1d6-bf0a-4be8-b248-8d06ee2ab10d",
     "showTitle": false,
     "tableResultSettingsMap": {},
     "title": ""
    }
   },
   "outputs": [],
   "source": [
    "from functions import bronze_standard_transform\n",
    "\n",
    "df = (\n",
    "    spark.read\n",
    "    .option(\"multiline\", \"false\")\n",
    "    .json(\"/Volumes/edsm/bronze/landing/20250626/powerPlay.json\")\n",
    "    .transform(bronze_standard_transform, settings, spark)\n",
    ")\n",
    "df.show(truncate=False)"
   ]
  }
 ],
 "metadata": {
  "application/vnd.databricks.v1+notebook": {
   "computePreferences": null,
   "dashboards": [],
   "environmentMetadata": {
    "base_environment": "",
    "environment_version": "2"
   },
   "inputWidgetPreferences": null,
   "language": "python",
   "notebookMetadata": {
    "pythonIndentUnit": 4
   },
   "notebookName": "Pyspark",
   "widgets": {}
  },
  "language_info": {
   "name": "python"
  }
 },
 "nbformat": 4,
 "nbformat_minor": 0
}
