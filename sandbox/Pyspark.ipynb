{
 "cells": [
  {
   "cell_type": "code",
   "execution_count": 0,
   "metadata": {
    "application/vnd.databricks.v1+cell": {
     "cellMetadata": {
      "byteLimit": 2048000,
      "rowLimit": 10000
     },
     "inputWidgets": {},
     "nuid": "739eff21-5829-4df6-9d27-68020145c113",
     "showTitle": false,
     "tableResultSettingsMap": {},
     "title": ""
    }
   },
   "outputs": [],
   "source": [
    "import json\n",
    "from delta.tables import DeltaTable\n",
    "from pyspark.sql.functions import sha2, concat_ws, current_timestamp, lit\n",
    "from pyspark.sql.functions import struct, to_json, sha2, col, current_timestamp\n",
    "from functions import create_table_if_not_exists\n",
    "\n",
    "history_df = DeltaTable.forName(spark, \"edsm.silver.powerPlay\").history()\n",
    "versions = [r.version for r in history_df.select(\"version\").collect()]\n",
    "\n",
    "for v in sorted(versions):\n",
    "    df = (\n",
    "        spark.read\n",
    "        .format(\"delta\")\n",
    "        .option(\"versionAsOf\", v)\n",
    "        .table(\"edsm.silver.powerPlay\")\n",
    "    )\n",
    "    dupes = (\n",
    "        df.groupBy(\"id\", \"id64\", \"name\", \"power\", \"powerState\", \"state\")\n",
    "        .count()\n",
    "        .filter(\"count > 1\")\n",
    "    )\n",
    "    if dupes.count() > 0:\n",
    "        print(f\"Version {v} has duplicates\")\n",
    "        dupes.show(truncate=False)\n"
   ]
  }
 ],
 "metadata": {
  "application/vnd.databricks.v1+notebook": {
   "computePreferences": null,
   "dashboards": [],
   "environmentMetadata": {
    "base_environment": "",
    "environment_version": "2"
   },
   "inputWidgetPreferences": null,
   "language": "python",
   "notebookMetadata": {
    "pythonIndentUnit": 4
   },
   "notebookName": "Pyspark",
   "widgets": {}
  },
  "language_info": {
   "name": "python"
  }
 },
 "nbformat": 4,
 "nbformat_minor": 0
}
