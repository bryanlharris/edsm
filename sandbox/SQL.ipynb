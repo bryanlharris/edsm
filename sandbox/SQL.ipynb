{
 "cells": [
  {
   "cell_type": "code",
   "execution_count": 0,
   "metadata": {
    "application/vnd.databricks.v1+cell": {
     "cellMetadata": {
      "byteLimit": 2048000,
      "rowLimit": 10000
     },
     "collapsed": true,
     "inputWidgets": {},
     "nuid": "d29b3bf2-baa0-4dc3-a6ef-b687ef54544a",
     "showTitle": false,
     "tableResultSettingsMap": {},
     "title": ""
    }
   },
   "outputs": [],
   "source": [
    "WITH version2 AS (\n",
    "    SELECT\n",
    "        id,\n",
    "        id64,\n",
    "        name,\n",
    "        allegiance,\n",
    "        government,\n",
    "        powerState,\n",
    "        state\n",
    "    FROM edsm.silver.powerPlay\n",
    "    VERSION AS OF 2\n",
    "),\n",
    "version3 AS (\n",
    "    SELECT\n",
    "        id,\n",
    "        id64,\n",
    "        name,\n",
    "        allegiance,\n",
    "        government,\n",
    "        powerState,\n",
    "        state\n",
    "    FROM edsm.silver.powerPlay\n",
    "    VERSION AS OF 3\n",
    ")\n",
    "SELECT\n",
    "    v3.id,\n",
    "    v3.id64,\n",
    "    v3.name,\n",
    "    v2.allegiance AS allegiance_v2,\n",
    "    v3.allegiance AS allegiance_v3,\n",
    "    v2.government AS government_v2,\n",
    "    v3.government AS government_v3,\n",
    "    v2.powerState AS powerState_v2,\n",
    "    v3.powerState AS powerState_v3,\n",
    "    v2.state AS state_v2,\n",
    "    v3.state AS state_v3\n",
    "FROM version2 v2\n",
    "JOIN version3 v3\n",
    "  ON v2.id = v3.id\n",
    "WHERE\n",
    "    v2.allegiance <> v3.allegiance\n",
    " OR v2.government <> v3.government\n",
    " OR v2.powerState <> v3.powerState\n",
    " OR v2.state <> v3.state;"
   ]
  },
  {
   "cell_type": "code",
   "execution_count": 0,
   "metadata": {
    "application/vnd.databricks.v1+cell": {
     "cellMetadata": {
      "byteLimit": 2048000,
      "rowLimit": 10000
     },
     "collapsed": true,
     "inputWidgets": {},
     "nuid": "b13e5679-9ab2-4dbf-a3cc-aff54e348a1f",
     "showTitle": false,
     "tableResultSettingsMap": {},
     "title": ""
    }
   },
   "outputs": [],
   "source": [
    "WITH latest_ingest_times AS (\n",
    "    SELECT\n",
    "        id,\n",
    "        MAX(ingest_time) AS today_ingest_time\n",
    "    FROM edsm.silver.powerPlay\n",
    "    WHERE DATE(ingest_time) = CURRENT_DATE\n",
    "    GROUP BY id\n",
    "),\n",
    "previous_ingest_times AS (\n",
    "    SELECT\n",
    "        id,\n",
    "        MAX(ingest_time) AS yesterday_ingest_time\n",
    "    FROM edsm.silver.powerPlay\n",
    "    WHERE DATE(ingest_time) = CURRENT_DATE - INTERVAL 1 DAY\n",
    "    GROUP BY id\n",
    ")\n",
    "SELECT\n",
    "    t.id,\n",
    "    t.id64,\n",
    "    t.name,\n",
    "    t.allegiance AS allegiance_today,\n",
    "    y.allegiance AS allegiance_yesterday,\n",
    "    t.government AS government_today,\n",
    "    y.government AS government_yesterday,\n",
    "    t.powerState AS powerState_today,\n",
    "    y.powerState AS powerState_yesterday,\n",
    "    t.state AS state_today,\n",
    "    y.state AS state_yesterday\n",
    "FROM\n",
    "    latest_ingest_times lit\n",
    "JOIN\n",
    "    edsm.silver.powerPlay t\n",
    "    ON lit.id = t.id AND lit.today_ingest_time = t.ingest_time\n",
    "JOIN\n",
    "    previous_ingest_times pit\n",
    "    ON t.id = pit.id\n",
    "JOIN\n",
    "    edsm.silver.powerPlay y\n",
    "    ON pit.id = y.id AND pit.yesterday_ingest_time = y.ingest_time\n",
    "WHERE\n",
    "    t.allegiance <> y.allegiance\n",
    "    OR t.government <> y.government\n",
    "    OR t.powerState <> y.powerState\n",
    "    OR t.state <> y.state;"
   ]
  },
  {
   "cell_type": "code",
   "execution_count": 0,
   "metadata": {
    "application/vnd.databricks.v1+cell": {
     "cellMetadata": {
      "byteLimit": 2048000,
      "rowLimit": 10000
     },
     "collapsed": true,
     "inputWidgets": {},
     "nuid": "1abaf5ae-5fa1-4fdd-92a1-e9402ebe19e0",
     "showTitle": false,
     "tableResultSettingsMap": {},
     "title": ""
    }
   },
   "outputs": [],
   "source": [
    "describe history edsm.silver.powerplay_rescue"
   ]
  },
  {
   "cell_type": "code",
   "execution_count": 0,
   "metadata": {
    "application/vnd.databricks.v1+cell": {
     "cellMetadata": {
      "byteLimit": 2048000,
      "rowLimit": 10000
     },
     "collapsed": true,
     "inputWidgets": {},
     "nuid": "5b823906-83de-49e4-a000-16be7f625388",
     "showTitle": false,
     "tableResultSettingsMap": {},
     "title": ""
    }
   },
   "outputs": [],
   "source": [
    "select * from edsm.silver.powerplay\n",
    "where name = 'Dervin' and power = \"Felicia Winters\""
   ]
  },
  {
   "cell_type": "code",
   "execution_count": 0,
   "metadata": {
    "application/vnd.databricks.v1+cell": {
     "cellMetadata": {
      "byteLimit": 2048000,
      "rowLimit": 10000
     },
     "inputWidgets": {},
     "nuid": "75bc2696-b2c7-4966-b0fb-eb8787cf7ef7",
     "showTitle": false,
     "tableResultSettingsMap": {},
     "title": ""
    }
   },
   "outputs": [],
   "source": [
    "select * from edsm.silver.powerplay_rescue\n",
    "where name = 'Dervin' and power = \"Felicia Winters\""
   ]
  },
  {
   "cell_type": "code",
   "execution_count": 0,
   "metadata": {
    "application/vnd.databricks.v1+cell": {
     "cellMetadata": {
      "byteLimit": 2048000,
      "rowLimit": 10000
     },
     "inputWidgets": {},
     "nuid": "85508ad3-f564-493b-8854-a09f2ed07ba5",
     "showTitle": false,
     "tableResultSettingsMap": {},
     "title": ""
    }
   },
   "outputs": [],
   "source": [
    "select * from edsm.gold.powerplay_rescue\n",
    "where name = 'Dervin' and power = 'Felicia Winters'"
   ]
  },
  {
   "cell_type": "code",
   "execution_count": 0,
   "metadata": {
    "application/vnd.databricks.v1+cell": {
     "cellMetadata": {
      "byteLimit": 2048000,
      "rowLimit": 10000
     },
     "inputWidgets": {},
     "nuid": "d6930596-be61-421c-9855-b3cdead77a12",
     "showTitle": false,
     "tableResultSettingsMap": {},
     "title": ""
    }
   },
   "outputs": [],
   "source": [
    "create\n",
    "or replace view edsm.gold.v_powerPlay_rescue as\n",
    "select\n",
    "  to_date(from_utc_timestamp(valid_from,'America/New_York')) as valid_from,\n",
    "  to_date(from_utc_timestamp(valid_to,'America/New_York')) as valid_to,\n",
    "  powerplay_rescue.* except (valid_from, valid_to)\n",
    "from\n",
    "  edsm.gold.powerplay_rescue powerplay_rescue;"
   ]
  },
  {
   "cell_type": "code",
   "execution_count": 0,
   "metadata": {
    "application/vnd.databricks.v1+cell": {
     "cellMetadata": {
      "byteLimit": 2048000,
      "rowLimit": 10000
     },
     "inputWidgets": {},
     "nuid": "cdeeca1f-0eab-49ed-9d6d-e4c12173c360",
     "showTitle": false,
     "tableResultSettingsMap": {},
     "title": ""
    }
   },
   "outputs": [],
   "source": [
    "select * from edsm.gold.v_powerplay_rescue\n",
    "where name = 'Dervin' and power = 'Felicia Winters'"
   ]
  },
  {
   "cell_type": "code",
   "execution_count": 0,
   "metadata": {
    "application/vnd.databricks.v1+cell": {
     "cellMetadata": {
      "byteLimit": 2048000,
      "rowLimit": 10000
     },
     "inputWidgets": {},
     "nuid": "6929e223-59f4-4e52-9251-9732fb1684cc",
     "showTitle": false,
     "tableResultSettingsMap": {},
     "title": ""
    }
   },
   "outputs": [],
   "source": [
    "describe history edsm.silver.powerplay_rescue"
   ]
  }
 ],
 "metadata": {
  "application/vnd.databricks.v1+notebook": {
   "computePreferences": null,
   "dashboards": [],
   "environmentMetadata": {
    "base_environment": "",
    "environment_version": "2"
   },
   "inputWidgetPreferences": null,
   "language": "sql",
   "notebookMetadata": {
    "pythonIndentUnit": 4
   },
   "notebookName": "SQL",
   "widgets": {}
  },
  "language_info": {
   "name": "sql"
  }
 },
 "nbformat": 4,
 "nbformat_minor": 0
}
