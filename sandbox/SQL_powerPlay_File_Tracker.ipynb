{
 "cells": [
  {
   "cell_type": "code",
   "execution_count": 0,
   "metadata": {
    "application/vnd.databricks.v1+cell": {
     "cellMetadata": {
      "byteLimit": 2048000,
      "rowLimit": 10000
     },
     "inputWidgets": {},
     "nuid": "38917c62-bbc5-4582-b5d2-eac5a785955d",
     "showTitle": false,
     "tableResultSettingsMap": {},
     "title": ""
    }
   },
   "outputs": [],
   "source": [
    "WITH file_history AS (\n",
    "    SELECT\n",
    "        h.table_name,\n",
    "        h.version,\n",
    "        h.timestamp,\n",
    "        h.operation,\n",
    "        f.file_path AS file\n",
    "    FROM edsm.silver.powerPlay_transaction_history h\n",
    "    JOIN (\n",
    "        SELECT\n",
    "            primary_key,\n",
    "            EXPLODE(file_path) AS file_path\n",
    "        FROM edsm.silver.powerPlay_file_version_history\n",
    "    ) f\n",
    "      ON h.primary_key = f.primary_key\n",
    ")\n",
    "SELECT\n",
    "    CAST(p.valid_from AS DATE) AS valid_from,\n",
    "    CAST(p.valid_to AS DATE) AS valid_to,\n",
    "    p.name,\n",
    "    p.id,\n",
    "    p.power,\n",
    "    p.allegiance,\n",
    "    p.government,\n",
    "    p.powerState,\n",
    "    p.state,\n",
    "    p.derived_ingest_time,\n",
    "    p.source_metadata.file_path,\n",
    "    fh.table_name,\n",
    "    fh.version,\n",
    "    fh.timestamp,\n",
    "    fh.operation\n",
    "FROM edsm.silver.powerPlay p\n",
    "JOIN file_history fh\n",
    "  ON p.source_metadata.file_path = fh.file\n",
    "WHERE (\n",
    "    (TRY_CAST(NULLIF(:`id`, '') AS BIGINT) IS NULL OR p.id = TRY_CAST(NULLIF(:`id`, '') AS BIGINT))\n",
    "    AND (NULLIF(:`name`, '') IS NULL OR p.name = NULLIF(:`name`, ''))\n",
    "    AND (NULLIF(:`power`, '') IS NULL OR p.power = NULLIF(:`power`, ''))\n",
    "    AND (TRY_CAST(:`valid_from` AS DATE) IS NULL OR DATE(p.valid_from) >= TRY_CAST(:`valid_from` AS DATE))\n",
    "    AND (TRY_CAST(:`valid_to` AS DATE) IS NULL OR DATE(p.valid_to) <= TRY_CAST(:`valid_to` AS DATE))\n",
    ")\n",
    "ORDER BY fh.timestamp;"
   ]
  }
 ],
 "metadata": {
  "application/vnd.databricks.v1+notebook": {
   "computePreferences": null,
   "dashboards": [],
   "environmentMetadata": {
    "base_environment": "",
    "environment_version": "2"
   },
   "inputWidgetPreferences": null,
   "language": "sql",
   "notebookMetadata": {
    "pythonIndentUnit": 4
   },
   "notebookName": "SQL_powerPlay_File_Tracker",
   "widgets": {
    "id": {
     "currentValue": "",
     "nuid": "cb9653fb-a74b-43d8-9dad-63de84ec2dd3",
     "typedWidgetInfo": {
      "autoCreated": false,
      "defaultValue": "",
      "label": "",
      "name": "id",
      "options": {
       "widgetDisplayType": "Text",
       "validationRegex": null
      },
      "parameterDataType": "String"
     },
     "widgetInfo": {
      "widgetType": "text",
      "defaultValue": "",
      "label": "",
      "name": "id",
      "options": {
       "widgetType": "text",
       "autoCreated": false,
       "validationRegex": null
      }
     }
    },
    "name": {
     "currentValue": "",
     "nuid": "aedfc1b0-24e4-4feb-a824-f59258495349",
     "typedWidgetInfo": {
      "autoCreated": true,
      "defaultValue": "",
      "label": null,
      "name": "name",
      "options": {
       "widgetDisplayType": "Text",
       "validationRegex": null
      },
      "parameterDataType": "String"
     },
     "widgetInfo": {
      "widgetType": "text",
      "defaultValue": "",
      "label": null,
      "name": "name",
      "options": {
       "widgetType": "text",
       "autoCreated": true,
       "validationRegex": null
      }
     }
    },
    "power": {
     "currentValue": "Edmund Mahon",
     "nuid": "9d68b1ae-4153-40a3-80c2-0f55042988d3",
     "typedWidgetInfo": {
      "autoCreated": true,
      "defaultValue": "",
      "label": null,
      "name": "power",
      "options": {
       "widgetDisplayType": "Text",
       "validationRegex": null
      },
      "parameterDataType": "String"
     },
     "widgetInfo": {
      "widgetType": "text",
      "defaultValue": "",
      "label": null,
      "name": "power",
      "options": {
       "widgetType": "text",
       "autoCreated": true,
       "validationRegex": null
      }
     }
    },
    "valid_from": {
     "currentValue": "2025-06-26",
     "nuid": "57200681-a8d6-4f39-954a-186057847e91",
     "typedWidgetInfo": {
      "autoCreated": true,
      "defaultValue": "",
      "label": null,
      "name": "valid_from",
      "options": {
       "widgetDisplayType": "Text",
       "validationRegex": null
      },
      "parameterDataType": "String"
     },
     "widgetInfo": {
      "widgetType": "text",
      "defaultValue": "",
      "label": null,
      "name": "valid_from",
      "options": {
       "widgetType": "text",
       "autoCreated": true,
       "validationRegex": null
      }
     }
    },
    "valid_to": {
     "currentValue": "2025-06-28",
     "nuid": "05dc1bc4-3347-4604-91bb-c6e1f886aa2b",
     "typedWidgetInfo": {
      "autoCreated": true,
      "defaultValue": "",
      "label": null,
      "name": "valid_to",
      "options": {
       "widgetDisplayType": "Text",
       "validationRegex": null
      },
      "parameterDataType": "String"
     },
     "widgetInfo": {
      "widgetType": "text",
      "defaultValue": "",
      "label": null,
      "name": "valid_to",
      "options": {
       "widgetType": "text",
       "autoCreated": true,
       "validationRegex": null
      }
     }
    }
   }
  },
  "language_info": {
   "name": "sql"
  }
 },
 "nbformat": 4,
 "nbformat_minor": 0
}
