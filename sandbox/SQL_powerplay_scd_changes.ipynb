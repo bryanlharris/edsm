{
 "cells": [
  {
   "cell_type": "code",
   "execution_count": 0,
   "metadata": {
    "application/vnd.databricks.v1+cell": {
     "cellMetadata": {
      "byteLimit": 2048000,
      "rowLimit": 10000
     },
     "collapsed": true,
     "inputWidgets": {},
     "nuid": "e1c7ad8f-1111-4a5d-8eb9-000000000001",
     "showTitle": false,
     "tableResultSettingsMap": {},
     "title": ""
    }
   },
   "outputs": [],
   "source": [
    "SELECT\n",
    "    MIN(ingest_time) AS earliest_valid_from,\n",
    "    MAX(ingest_time) AS latest_valid_to\n",
    "FROM edsm.silver.v_powerplay"
   ]
  },
  {
   "cell_type": "code",
   "execution_count": 0,
   "metadata": {
    "application/vnd.databricks.v1+cell": {
     "cellMetadata": {
      "byteLimit": 2048000,
      "rowLimit": 10000
     },
     "collapsed": true,
     "inputWidgets": {},
     "nuid": "e1c7ad8f-1111-4a5d-8eb9-000000000002",
     "showTitle": false,
     "tableResultSettingsMap": {},
     "title": ""
    }
   },
   "outputs": [],
   "source": [
    "SELECT\n",
    "    id,\n",
    "    power,\n",
    "    COUNT(DISTINCT struct(allegiance, government, powerState, state)) AS version_count\n",
    "FROM edsm.silver.v_powerplay\n",
    "GROUP BY id, power\n",
    "HAVING version_count > 1\n",
    "ORDER BY version_count DESC, id, power"
   ]
  },
  {
   "cell_type": "code",
   "execution_count": 0,
   "metadata": {
    "application/vnd.databricks.v1+cell": {
     "cellMetadata": {
      "byteLimit": 2048000,
      "rowLimit": 10000
     },
     "collapsed": true,
     "inputWidgets": {},
     "nuid": "e1c7ad8f-1111-4a5d-8eb9-000000000003",
     "showTitle": false,
     "tableResultSettingsMap": {},
     "title": ""
    }
   },
   "outputs": [],
   "source": [
    "SELECT\n",
    "    id,\n",
    "    power,\n",
    "    allegiance,\n",
    "    government,\n",
    "    powerState,\n",
    "    state,\n",
    "    valid_from,\n",
    "    valid_to\n",
    "FROM edsm.silver.v_powerplay\n",
    "WHERE (id, power) IN (\n",
    "    SELECT id, power\n",
    "    FROM edsm.silver.v_powerplay\n",
    "    GROUP BY id, power\n",
    "    HAVING COUNT(DISTINCT struct(allegiance, government, powerState, state)) > 1\n",
    ")\n",
    "ORDER BY id, power, valid_from"
   ]
  },
  {
   "cell_type": "code",
   "execution_count": 0,
   "metadata": {
    "application/vnd.databricks.v1+cell": {
     "cellMetadata": {
      "byteLimit": 2048000,
      "rowLimit": 10000
     },
     "inputWidgets": {},
     "nuid": "eca859d5-7f93-434a-9cec-92dadc6e8998",
     "showTitle": false,
     "tableResultSettingsMap": {},
     "title": ""
    }
   },
   "outputs": [],
   "source": [
    "WITH bounds AS (\n",
    "    SELECT\n",
    "        MIN(ingest_time) AS earliest_valid_from,\n",
    "        MAX(ingest_time) AS latest_valid_to\n",
    "    FROM edsm.silver.v_powerplay\n",
    ")\n",
    "SELECT\n",
    "    valid_from,\n",
    "    valid_to,\n",
    "    name,\n",
    "    power,\n",
    "    allegiance,\n",
    "    government,\n",
    "    powerState,\n",
    "    state\n",
    "FROM edsm.silver.v_powerplay\n",
    "WHERE (id, power) IN (\n",
    "    SELECT id, power\n",
    "    FROM edsm.silver.v_powerplay\n",
    "    GROUP BY id, power\n",
    "    HAVING COUNT(DISTINCT struct(allegiance, government, powerState, state)) > 1\n",
    ")\n",
    "AND valid_from >= (SELECT earliest_valid_from FROM bounds)\n",
    "AND valid_to <= (SELECT latest_valid_to FROM bounds)\n",
    "ORDER BY id, power, valid_from;"
   ]
  },
  {
   "cell_type": "code",
   "execution_count": 0,
   "metadata": {
    "application/vnd.databricks.v1+cell": {
     "cellMetadata": {
      "byteLimit": 2048000,
      "rowLimit": 10000
     },
     "inputWidgets": {},
     "nuid": "0c3287c9-a831-4a6e-b7ab-3bff9d874afd",
     "showTitle": false,
     "tableResultSettingsMap": {},
     "title": ""
    }
   },
   "outputs": [],
   "source": [
    "SELECT *\n",
    "FROM edsm.silver.v_powerplay\n",
    "WHERE name = 'LFT 1072'\n",
    "AND valid_to = DATE '9999-12-31';"
   ]
  },
  {
   "cell_type": "code",
   "execution_count": 0,
   "metadata": {
    "application/vnd.databricks.v1+cell": {
     "cellMetadata": {
      "byteLimit": 2048000,
      "rowLimit": 10000
     },
     "inputWidgets": {},
     "nuid": "7bd01eb3-d33a-4d24-ae91-b798d9aaf5bc",
     "showTitle": false,
     "tableResultSettingsMap": {},
     "title": ""
    }
   },
   "outputs": [],
   "source": [
    "WITH bounds AS (\n",
    "    SELECT\n",
    "        MIN(ingest_time) AS earliest_ingest,\n",
    "        MAX(ingest_time) AS latest_ingest\n",
    "    FROM edsm.silver.v_powerplay\n",
    "),\n",
    "changing_ids AS (\n",
    "    SELECT id, power\n",
    "    FROM edsm.silver.v_powerplay\n",
    "    WHERE ingest_time BETWEEN (SELECT earliest_ingest FROM bounds) AND (SELECT latest_ingest FROM bounds)\n",
    "    GROUP BY id, power\n",
    "    HAVING COUNT(DISTINCT struct(allegiance, government, powerState, state)) > 1\n",
    ")\n",
    "SELECT\n",
    "    valid_from,\n",
    "    valid_to,\n",
    "    name,\n",
    "    power,\n",
    "    allegiance,\n",
    "    government,\n",
    "    powerState,\n",
    "    state\n",
    "FROM edsm.silver.v_powerplay\n",
    "WHERE (id, power) IN (SELECT id, power FROM changing_ids)\n",
    "AND ingest_time BETWEEN (SELECT earliest_ingest FROM bounds) AND (SELECT latest_ingest FROM bounds)\n",
    "ORDER BY id, power, valid_from;"
   ]
  },
  {
   "cell_type": "code",
   "execution_count": 0,
   "metadata": {
    "application/vnd.databricks.v1+cell": {
     "cellMetadata": {
      "byteLimit": 2048000,
      "rowLimit": 10000
     },
     "inputWidgets": {},
     "nuid": "0f8bdd05-ec46-4102-a2e9-29f449c1302b",
     "showTitle": false,
     "tableResultSettingsMap": {},
     "title": ""
    }
   },
   "outputs": [],
   "source": [
    "%python\n",
    "\n",
    "dbutils.widgets.text(\"system_name\", \"\")\n",
    "dbutils.widgets.text(\"power\", \"\")\n",
    "\n",
    "system_name = dbutils.widgets.get(\"system_name\")\n",
    "power = dbutils.widgets.get(\"power\")\n",
    "\n",
    "latest_ingest = spark.sql(\"SELECT MAX(ingest_time) AS latest FROM edsm.silver.v_powerplay\").collect()[0][\"latest\"]\n",
    "\n",
    "query = f\"\"\"\n",
    "SELECT\n",
    "    name,\n",
    "    power,\n",
    "    powerState,\n",
    "    state,\n",
    "    valid_from,\n",
    "    CASE\n",
    "        WHEN valid_to > TIMESTAMP('{latest_ingest}') THEN TIMESTAMP('{latest_ingest}')\n",
    "        ELSE valid_to\n",
    "    END AS valid_to\n",
    "FROM edsm.silver.v_powerplay\n",
    "WHERE name = '{system_name}' AND power = '{power}'\n",
    "ORDER BY valid_from\n",
    "\"\"\"\n",
    "\n",
    "df = spark.sql(query).toPandas()\n",
    "\n",
    "import pandas as pd\n",
    "import matplotlib.pyplot as plt\n",
    "import matplotlib.dates as mdates\n",
    "\n",
    "df['valid_from'] = pd.to_datetime(df['valid_from'])\n",
    "df['valid_to'] = pd.to_datetime(df['valid_to'])\n",
    "\n",
    "fig, ax = plt.subplots(figsize=(12, len(df) * 0.4))\n",
    "\n",
    "for i, row in df.iterrows():\n",
    "    ax.barh(\n",
    "        y=i,\n",
    "        width=(row['valid_to'] - row['valid_from']).days,\n",
    "        left=row['valid_from'],\n",
    "        height=0.9\n",
    "    )\n",
    "\n",
    "ax.set_yticks(range(len(df)))\n",
    "ax.set_yticklabels([f\"{row['powerState']} - {row['state']}\" for _, row in df.iterrows()])\n",
    "ax.invert_yaxis()\n",
    "ax.set_xlabel(\"Date\")\n",
    "ax.set_title(f\"{system_name} - {power}\")\n",
    "\n",
    "ax.xaxis.set_major_locator(mdates.AutoDateLocator())\n",
    "ax.xaxis.set_major_formatter(mdates.DateFormatter('%m-%d'))\n",
    "fig.autofmt_xdate(rotation=0)\n",
    "\n",
    "plt.tight_layout()\n",
    "plt.show()"
   ]
  }
 ],
 "metadata": {
  "application/vnd.databricks.v1+notebook": {
   "computePreferences": null,
   "dashboards": [],
   "environmentMetadata": {
    "base_environment": "",
    "environment_version": "2"
   },
   "inputWidgetPreferences": null,
   "language": "sql",
   "notebookMetadata": {
    "pythonIndentUnit": 4
   },
   "notebookName": "SQL_powerplay_scd_changes",
   "widgets": {
    "power": {
     "currentValue": "Edmund Mahon",
     "nuid": "67de0a29-a85e-4a3b-b6da-d89650df8950",
     "typedWidgetInfo": {
      "autoCreated": false,
      "defaultValue": "",
      "label": null,
      "name": "power",
      "options": {
       "widgetDisplayType": "Text",
       "validationRegex": null
      },
      "parameterDataType": "String"
     },
     "widgetInfo": {
      "widgetType": "text",
      "defaultValue": "",
      "label": null,
      "name": "power",
      "options": {
       "widgetType": "text",
       "autoCreated": null,
       "validationRegex": null
      }
     }
    },
    "system_name": {
     "currentValue": "LFT 1072",
     "nuid": "bdccec04-cf44-47fd-bf88-1131ece713fa",
     "typedWidgetInfo": {
      "autoCreated": false,
      "defaultValue": "",
      "label": null,
      "name": "system_name",
      "options": {
       "widgetDisplayType": "Text",
       "validationRegex": null
      },
      "parameterDataType": "String"
     },
     "widgetInfo": {
      "widgetType": "text",
      "defaultValue": "",
      "label": null,
      "name": "system_name",
      "options": {
       "widgetType": "text",
       "autoCreated": null,
       "validationRegex": null
      }
     }
    }
   }
  },
  "language_info": {
   "name": "sql"
  }
 },
 "nbformat": 4,
 "nbformat_minor": 0
}
