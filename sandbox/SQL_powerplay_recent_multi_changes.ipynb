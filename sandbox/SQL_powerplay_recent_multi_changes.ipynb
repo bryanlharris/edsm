{
 "cells": [
  {
   "cell_type": "code",
   "execution_count": 0,
   "metadata": {
    "application/vnd.databricks.v1+cell": {
     "cellMetadata": {
      "byteLimit": 2048000,
      "rowLimit": 10000
     },
     "inputWidgets": {},
     "nuid": "a1b2c3d4-1111-2222-3333-444455556666",
     "showTitle": false,
     "tableResultSettingsMap": {},
     "title": ""
    }
   },
   "outputs": [],
   "source": [
    "-- Count systems with multiple changes in the last 14 days\n",
    "SELECT\n",
    "    id,\n",
    "    power,\n",
    "    COUNT(*) AS change_count\n",
    "FROM edsm.silver.v_powerplay\n",
    "WHERE valid_from >= date_sub(current_date(), 14)\n",
    "GROUP BY id, power\n",
    "HAVING change_count >= 3\n",
    "ORDER BY change_count DESC, id, power"
   ]
  },
  {
   "cell_type": "code",
   "execution_count": 0,
   "metadata": {
    "application/vnd.databricks.v1+cell": {
     "cellMetadata": {
      "byteLimit": 2048000,
      "rowLimit": 10000
     },
     "inputWidgets": {},
     "nuid": "b2c3d4e5-7777-8888-9999-aaaabbbbcccc",
     "showTitle": false,
     "tableResultSettingsMap": {},
     "title": ""
    }
   },
   "outputs": [],
   "source": [
    "-- Show records for those systems\n",
    "SELECT\n",
    "    name,\n",
    "    power,\n",
    "    powerState,\n",
    "    state,\n",
    "    valid_from,\n",
    "    valid_to\n",
    "FROM edsm.silver.v_powerplay\n",
    "WHERE (id, power) IN (\n",
    "    SELECT id, power\n",
    "    FROM edsm.silver.v_powerplay\n",
    "    WHERE valid_from >= date_sub(current_date(), 14)\n",
    "    GROUP BY id, power\n",
    "    HAVING COUNT(*) >= 3\n",
    ")\n",
    "ORDER BY id, power, valid_from"
   ]
  }
 ],
 "metadata": {
  "application/vnd.databricks.v1+notebook": {
   "computePreferences": null,
   "dashboards": [],
   "environmentMetadata": {
    "base_environment": "",
    "environment_version": "3"
   },
   "inputWidgetPreferences": null,
   "language": "sql",
   "notebookMetadata": {
    "pythonIndentUnit": 4
   },
   "notebookName": "SQL_powerplay_recent_multi_changes",
   "widgets": {}
  },
  "language_info": {
   "name": "sql"
  }
 },
 "nbformat": 4,
 "nbformat_minor": 0
}
