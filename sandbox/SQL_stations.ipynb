{
 "cells": [
  {
   "cell_type": "code",
   "execution_count": 0,
   "metadata": {
    "application/vnd.databricks.v1+cell": {
     "cellMetadata": {
      "byteLimit": 2048000,
      "rowLimit": 10000
     },
     "inputWidgets": {},
     "nuid": "2d1c39eb-22a8-4253-9587-ba828221275e",
     "showTitle": false,
     "tableResultSettingsMap": {},
     "title": ""
    }
   },
   "outputs": [],
   "source": [
    "WITH target_system AS (\n",
    "    SELECT coords.x AS tx, coords.y AS ty, coords.z AS tz\n",
    "    FROM edsm.silver.systemsWithCoordinates\n",
    "    WHERE name = :`Commander System`\n",
    "),\n",
    "stations_with_item AS (\n",
    "    SELECT\n",
    "        s.id,\n",
    "        s.name,\n",
    "        s.systemId,\n",
    "        s.distanceToArrival,\n",
    "        o.name AS outfitting_item\n",
    "    FROM edsm.silver.stations s\n",
    "    LATERAL VIEW explode(s.outfitting) t AS o\n",
    "    WHERE o.name ILIKE CONCAT('%', :`Item`, '%')\n",
    "),\n",
    "filtered_systems AS (\n",
    "    SELECT *\n",
    "    FROM edsm.silver.systemsWithCoordinates swc\n",
    "    CROSS JOIN target_system t\n",
    "    WHERE ABS(swc.coords.x - t.tx) <= 25\n",
    "      AND ABS(swc.coords.y - t.ty) <= 25\n",
    "      AND ABS(swc.coords.z - t.tz) <= 25\n",
    "),\n",
    "joined AS (\n",
    "    SELECT\n",
    "        fs.name AS system_name,\n",
    "        s.name AS station_name,\n",
    "        s.outfitting_item,\n",
    "        s.distanceToArrival,\n",
    "        fs.coords.x AS x,\n",
    "        fs.coords.y AS y,\n",
    "        fs.coords.z AS z,\n",
    "        SQRT(\n",
    "            POW(fs.coords.x - t.tx, 2) +\n",
    "            POW(fs.coords.y - t.ty, 2) +\n",
    "            POW(fs.coords.z - t.tz, 2)\n",
    "        ) AS distance\n",
    "    FROM stations_with_item s\n",
    "    JOIN filtered_systems fs\n",
    "      ON s.systemId = fs.id\n",
    "    CROSS JOIN target_system t\n",
    "),\n",
    "limited AS (\n",
    "    SELECT\n",
    "        outfitting_item,\n",
    "        system_name,\n",
    "        station_name,\n",
    "        distance,\n",
    "        distanceToArrival\n",
    "    FROM joined\n",
    "    ORDER BY distance ASC\n",
    "    LIMIT 20\n",
    ")\n",
    "SELECT *\n",
    "FROM limited\n",
    "ORDER BY distanceToArrival ASC"
   ]
  }
 ],
 "metadata": {
  "application/vnd.databricks.v1+notebook": {
   "computePreferences": null,
   "dashboards": [],
   "environmentMetadata": {
    "base_environment": "",
    "environment_version": "2"
   },
   "inputWidgetPreferences": null,
   "language": "sql",
   "notebookMetadata": {
    "pythonIndentUnit": 4
   },
   "notebookName": "SQL_stations",
   "widgets": {
    "Commander System": {
     "currentValue": "Wolf 359",
     "nuid": "c32ccc13-481c-4c98-abb9-e0adf74564fa",
     "typedWidgetInfo": {
      "autoCreated": true,
      "defaultValue": "",
      "label": null,
      "name": "Commander System",
      "options": {
       "widgetDisplayType": "Text",
       "validationRegex": null
      },
      "parameterDataType": "String"
     },
     "widgetInfo": {
      "widgetType": "text",
      "defaultValue": "",
      "label": null,
      "name": "Commander System",
      "options": {
       "widgetType": "text",
       "autoCreated": true,
       "validationRegex": null
      }
     }
    },
    "Item": {
     "currentValue": "gimbal",
     "nuid": "4d575923-c28a-4d9a-a8e4-2b827bd7f19a",
     "typedWidgetInfo": {
      "autoCreated": true,
      "defaultValue": "",
      "label": null,
      "name": "Item",
      "options": {
       "widgetDisplayType": "Text",
       "validationRegex": null
      },
      "parameterDataType": "String"
     },
     "widgetInfo": {
      "widgetType": "text",
      "defaultValue": "",
      "label": null,
      "name": "Item",
      "options": {
       "widgetType": "text",
       "autoCreated": true,
       "validationRegex": null
      }
     }
    }
   }
  },
  "language_info": {
   "name": "sql"
  }
 },
 "nbformat": 4,
 "nbformat_minor": 0
}
