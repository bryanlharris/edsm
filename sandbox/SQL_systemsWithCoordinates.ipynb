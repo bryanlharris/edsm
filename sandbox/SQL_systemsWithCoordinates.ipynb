{
 "cells": [
  {
   "cell_type": "code",
   "execution_count": 0,
   "metadata": {
    "application/vnd.databricks.v1+cell": {
     "cellMetadata": {},
     "inputWidgets": {},
     "nuid": "5141c049-605f-4367-8c4b-0d039807775e",
     "showTitle": false,
     "tableResultSettingsMap": {},
     "title": ""
    }
   },
   "outputs": [],
   "source": [
    "ALTER TABLE edsm.silver.systemsWithCoordinates DROP COLUMN created_on;\n",
    "ALTER TABLE edsm.silver.systemsWithCoordinates DROP COLUMN deleted_on;\n",
    "ALTER TABLE edsm.silver.systemsWithCoordinates DROP COLUMN current_flag;\n",
    "ALTER TABLE edsm.silver.systemsWithCoordinates DROP COLUMN valid_from;\n",
    "ALTER TABLE edsm.silver.systemsWithCoordinates DROP COLUMN valid_to;"
   ]
  }
 ],
 "metadata": {
  "application/vnd.databricks.v1+notebook": {
   "computePreferences": null,
   "dashboards": [],
   "environmentMetadata": {
    "base_environment": "",
    "environment_version": "2"
   },
   "inputWidgetPreferences": null,
   "language": "sql",
   "notebookMetadata": {},
   "notebookName": "SQL_systemsWithCoordinates",
   "widgets": {}
  },
  "language_info": {
   "name": "sql"
  }
 },
 "nbformat": 4,
 "nbformat_minor": 0
}
