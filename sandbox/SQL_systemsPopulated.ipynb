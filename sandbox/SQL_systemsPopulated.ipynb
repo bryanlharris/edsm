{
 "cells": [
  {
   "cell_type": "code",
   "execution_count": 0,
   "metadata": {
    "application/vnd.databricks.v1+cell": {
     "cellMetadata": {
      "byteLimit": 2048000,
      "rowLimit": 10000
     },
     "inputWidgets": {},
     "nuid": "3a39317a-d619-4d2e-a14e-2d12a78552c3",
     "showTitle": false,
     "tableResultSettingsMap": {},
     "title": ""
    }
   },
   "outputs": [],
   "source": [
    "WITH v6 AS (\n",
    "    SELECT * FROM edsm.bronze.systemsPopulated VERSION AS OF 6\n",
    "),\n",
    "v5 AS (\n",
    "    SELECT * FROM edsm.bronze.systemsPopulated VERSION AS OF 5\n",
    "),\n",
    "delta AS (\n",
    "    SELECT * FROM v6\n",
    "    EXCEPT\n",
    "    SELECT * FROM v5\n",
    ")\n",
    "SELECT id, COUNT(*) AS cnt\n",
    "FROM delta\n",
    "GROUP BY id\n",
    "HAVING COUNT(*) > 1\n",
    "ORDER BY cnt DESC\n",
    "LIMIT 100;"
   ]
  },
  {
   "cell_type": "code",
   "execution_count": 0,
   "metadata": {
    "application/vnd.databricks.v1+cell": {
     "cellMetadata": {
      "byteLimit": 2048000,
      "rowLimit": 10000
     },
     "inputWidgets": {},
     "nuid": "6c3c7df1-6e45-496d-8ead-dc621a958f65",
     "showTitle": false,
     "tableResultSettingsMap": {},
     "title": ""
    }
   },
   "outputs": [],
   "source": [
    "select * from bronze.systemsPopulated limit 3"
   ]
  }
 ],
 "metadata": {
  "application/vnd.databricks.v1+notebook": {
   "computePreferences": null,
   "dashboards": [],
   "environmentMetadata": {
    "base_environment": "",
    "environment_version": "2"
   },
   "inputWidgetPreferences": null,
   "language": "sql",
   "notebookMetadata": {
    "pythonIndentUnit": 4
   },
   "notebookName": "SQL_systemsPopulated",
   "widgets": {}
  },
  "language_info": {
   "name": "sql"
  }
 },
 "nbformat": 4,
 "nbformat_minor": 0
}
