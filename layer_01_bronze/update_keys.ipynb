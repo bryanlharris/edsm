{
 "cells": [
  {
   "cell_type": "code",
   "execution_count": 0,
   "metadata": {
    "application/vnd.databricks.v1+cell": {
     "cellMetadata": {
      "byteLimit": 2048000,
      "rowLimit": 10000
     },
     "inputWidgets": {},
     "nuid": "6e2c6d29-0dcb-4d3e-ab2c-912dc33d671e",
     "showTitle": false,
     "tableResultSettingsMap": {},
     "title": ""
    }
   },
   "outputs": [],
   "source": [
    "import json\n",
    "from pathlib import Path\n",
    "\n",
    "remove_keys = [\"writeStream_outputMode\"]\n",
    "\n",
    "update = {\n",
    "    \"history_schema\": \"history\"\n",
    "    # \"build_history\": \"false\"\n",
    "    # \"read_function\": \"functions.stream_read_table\",\n",
    "    # \"transform_function\": \"functions.silver_scd2_transform\",\n",
    "    # \"write_function\": \"functions.stream_write_scd2_table\",\n",
    "    # \"upsert_function\": \"functions.scd2_upsert\",\n",
    "    # \"ingest_time_column\": \"derived_ingest_time\"\n",
    "}\n",
    "\n",
    "for json_file in Path(\".\").glob(\"*.json\"):\n",
    "    data = json.loads(json_file.read_text())\n",
    "    for key in remove_keys:\n",
    "        data.pop(key, None)\n",
    "    data.update(update)\n",
    "    json_file.write_text(json.dumps(data, indent=4))"
   ]
  }
 ],
 "metadata": {
  "application/vnd.databricks.v1+notebook": {
   "computePreferences": null,
   "dashboards": [],
   "environmentMetadata": {
    "base_environment": "",
    "environment_version": "2"
   },
   "inputWidgetPreferences": null,
   "language": "python",
   "notebookMetadata": {
    "pythonIndentUnit": 4
   },
   "notebookName": "update_keys",
   "widgets": {}
  },
  "language_info": {
   "name": "python"
  }
 },
 "nbformat": 4,
 "nbformat_minor": 0
}
