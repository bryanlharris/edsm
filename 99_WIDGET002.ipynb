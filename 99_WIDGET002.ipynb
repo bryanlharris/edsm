{
 "cells": [
  {
   "cell_type": "code",
   "execution_count": 0,
   "metadata": {
    "application/vnd.databricks.v1+cell": {
     "cellMetadata": {
      "byteLimit": 2048000,
      "rowLimit": 10000
     },
     "inputWidgets": {},
     "nuid": "28f6663d-25f4-4e02-9de8-55bdd43ab879",
     "showTitle": false,
     "tableResultSettingsMap": {},
     "title": ""
    }
   },
   "outputs": [],
   "source": [
    "CREATE WIDGET TEXT name DEFAULT \"Sol\";\n",
    "\n",
    "CREATE OR REPLACE TEMP VIEW file_history AS\n",
    "SELECT\n",
    "    h.table_name,\n",
    "    h.version,\n",
    "    h.timestamp,\n",
    "    h.operation,\n",
    "    h.userName,\n",
    "    f.file_path AS file\n",
    "FROM edsm.silver.powerplay_transaction_history h\n",
    "JOIN (\n",
    "    SELECT\n",
    "        primary_key,\n",
    "        EXPLODE(file_path) AS file_path\n",
    "    FROM edsm.silver.powerplay_file_version_history\n",
    ") f\n",
    "ON h.primary_key = f.primary_key;\n",
    "\n",
    "SELECT\n",
    "    distinct fh.*\n",
    "FROM edsm.silver.powerplay s\n",
    "JOIN file_history fh\n",
    "ON s.file_path = fh.file\n",
    "WHERE s.name = :`name`\n",
    "ORDER BY fh.timestamp;"
   ]
  }
 ],
 "metadata": {
  "application/vnd.databricks.v1+notebook": {
   "computePreferences": null,
   "dashboards": [],
   "environmentMetadata": {
    "base_environment": "",
    "environment_version": "2"
   },
   "inputWidgetPreferences": null,
   "language": "sql",
   "notebookMetadata": {
    "pythonIndentUnit": 4
   },
   "notebookName": "99_WIDGET002",
   "widgets": {
    "name": {
     "currentValue": "Niu Yun",
     "nuid": "3c999f0c-3712-4fab-b889-09aebcddf44e",
     "typedWidgetInfo": {
      "autoCreated": false,
      "defaultValue": "Sol",
      "label": null,
      "name": "name",
      "options": {
       "widgetDisplayType": "Text",
       "validationRegex": null
      },
      "parameterDataType": "String"
     },
     "widgetInfo": {
      "widgetType": "text",
      "defaultValue": "Sol",
      "label": null,
      "name": "name",
      "options": {
       "widgetType": "text",
       "autoCreated": null,
       "validationRegex": null
      }
     }
    }
   }
  },
  "language_info": {
   "name": "sql"
  }
 },
 "nbformat": 4,
 "nbformat_minor": 0
}
