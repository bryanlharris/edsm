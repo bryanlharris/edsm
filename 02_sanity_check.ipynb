{
 "cells": [
  {
   "cell_type": "code",
   "execution_count": 0,
   "metadata": {
    "application/vnd.databricks.v1+cell": {
     "cellMetadata": {
      "byteLimit": 2048000,
      "rowLimit": 10000
     },
     "inputWidgets": {},
     "nuid": "7ce22ba1-2df4-4875-8d4f-92389a35b1a2",
     "showTitle": false,
     "tableResultSettingsMap": {},
     "title": ""
    }
   },
   "outputs": [],
   "source": [
    "import os\n",
    "import sys\n",
    "from functions.internal.sanity import build_all_init, validate_settings, initialize_empty_tables\n",
    "\n",
    "try:\n",
    "    project_root = dbutils.jobs.taskValues.get(taskKey=\"job_settings\", key=\"project_root\", debugValue=None)\n",
    "except:\n",
    "    raise Exception(\"Could not load project_root.\")\n",
    "\n",
    "sys.path.append(project_root)\n",
    "\n",
    "validate_settings(project_root, dbutils)\n",
    "initialize_empty_tables(project_root, spark)"
   ]
  }
 ],
 "metadata": {
  "application/vnd.databricks.v1+notebook": {
   "computePreferences": null,
   "dashboards": [],
   "environmentMetadata": {
    "base_environment": "",
    "environment_version": "2"
   },
   "inputWidgetPreferences": null,
   "language": "python",
   "notebookMetadata": {
    "pythonIndentUnit": 4
   },
   "notebookName": "02_sanity_check",
   "widgets": {}
  },
  "language_info": {
   "name": "python"
  }
 },
 "nbformat": 4,
 "nbformat_minor": 0
}
