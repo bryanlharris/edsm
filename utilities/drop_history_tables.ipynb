{
 "cells": [
  {
   "cell_type": "code",
   "execution_count": 0,
   "metadata": {
    "application/vnd.databricks.v1+cell": {
     "cellMetadata": {},
     "inputWidgets": {},
     "nuid": "4ad0be51-eaef-4207-a95c-64df3a5647d5",
     "showTitle": false,
     "tableResultSettingsMap": {},
     "title": ""
    }
   },
   "outputs": [],
   "source": [
    "dbutils.widgets.removeAll()"
   ]
  },
  {
   "cell_type": "code",
   "execution_count": 0,
   "metadata": {
    "application/vnd.databricks.v1+cell": {
     "cellMetadata": {
      "byteLimit": 2048000,
      "rowLimit": 10000
     },
     "inputWidgets": {},
     "nuid": "25f842f3-4c3e-4e02-9463-f32de9e9c2c9",
     "showTitle": false,
     "tableResultSettingsMap": {},
     "title": ""
    }
   },
   "outputs": [],
   "source": [
    "catalogs = [row.catalog for row in spark.sql(\"SHOW CATALOGS\").collect()]\n",
    "catalogs.sort()\n",
    "if catalogs:\n",
    "    dbutils.widgets.combobox(\"catalog\", catalogs[0], catalogs)\n",
    "else:\n",
    "    dbutils.widgets.combobox(\"catalog\", \"\", [])"
   ]
  },
  {
   "cell_type": "code",
   "execution_count": 0,
   "metadata": {
    "application/vnd.databricks.v1+cell": {
     "cellMetadata": {
      "byteLimit": 2048000,
      "rowLimit": 10000
     },
     "inputWidgets": {},
     "nuid": "d20affff-c999-412e-a3f2-358bd69d8ae0",
     "showTitle": false,
     "tableResultSettingsMap": {},
     "title": ""
    }
   },
   "outputs": [],
   "source": [
    "catalog = dbutils.widgets.get(\"catalog\")\n",
    "schemas = [row.databaseName for row in spark.sql(f\"SHOW SCHEMAS IN {catalog}\").collect()] if catalog else []\n",
    "schemas.sort()\n",
    "if schemas:\n",
    "    dbutils.widgets.combobox(\"schema\", schemas[0], schemas)\n",
    "else:\n",
    "    dbutils.widgets.combobox(\"schema\", \"\", [])"
   ]
  },
  {
   "cell_type": "code",
   "execution_count": 0,
   "metadata": {
    "application/vnd.databricks.v1+cell": {
     "cellMetadata": {
      "byteLimit": 2048000,
      "rowLimit": 10000
     },
     "inputWidgets": {},
     "nuid": "e77d6605-84b7-4763-8fd6-367969bf1776",
     "showTitle": false,
     "tableResultSettingsMap": {},
     "title": ""
    }
   },
   "outputs": [],
   "source": [
    "catalog = dbutils.widgets.get(\"catalog\")\n",
    "schema = dbutils.widgets.get(\"schema\")\n",
    "def drop_history_tables(spark, catalog, schema):\n",
    "    tables = spark.sql(f\"SHOW TABLES IN {catalog}.{schema}\").filter(\"isTemporary = false\")\n",
    "    table_names = [row.tableName for row in tables.collect()]\n",
    "    for name in table_names:\n",
    "        if name.endswith(\"_file_version_history\") or name.endswith(\"_transaction_history\"):\n",
    "            spark.sql(f\"DROP TABLE IF EXISTS {catalog}.{schema}.{name}\")\n",
    "\n",
    "drop_history_tables(spark, catalog, schema)"
   ]
  }
 ],
 "metadata": {
  "application/vnd.databricks.v1+notebook": {
   "computePreferences": null,
   "dashboards": [],
   "environmentMetadata": {
    "base_environment": "",
    "environment_version": "3"
   },
   "inputWidgetPreferences": null,
   "language": "python",
   "notebookMetadata": {
    "pythonIndentUnit": 4
   },
   "notebookName": "drop_history_tables",
   "widgets": {}
  },
  "language_info": {
   "name": "python"
  }
 },
 "nbformat": 4,
 "nbformat_minor": 0
}