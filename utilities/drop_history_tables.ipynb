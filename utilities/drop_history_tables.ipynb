{
 "cells": [
  {
   "cell_type": "code",
   "execution_count": 0,
   "metadata": {
    "application/vnd.databricks.v1+cell": {
     "cellMetadata": {
      "byteLimit": 2048000,
      "rowLimit": 10000
     },
     "inputWidgets": {},
     "nuid": "d48ec044-2a22-44a1-9a74-25f19d1c4df2",
     "showTitle": false,
     "tableResultSettingsMap": {},
     "title": ""
    }
   },
   "outputs": [],
   "source": [
    "def drop_history_tables(spark, schema):\n",
    "    tables = spark.sql(f\"show tables in {schema}\").filter(\"isTemporary = false\")\n",
    "    table_names = [row.tableName for row in tables.collect()]\n",
    "    for table in table_names:\n",
    "        if table.endswith(\"_file_version_history\") or table.endswith(\"_transaction_history\"):\n",
    "            spark.sql(f\"drop table if exists {schema}.{table}\")\n",
    "\n",
    "drop_history_tables(spark, \"bronze\")"
   ]
  }
 ],
 "metadata": {
  "application/vnd.databricks.v1+notebook": {
   "computePreferences": null,
   "dashboards": [],
   "environmentMetadata": {
    "base_environment": "",
    "environment_version": "2"
   },
   "inputWidgetPreferences": null,
   "language": "python",
   "notebookMetadata": {
    "pythonIndentUnit": 4
   },
   "notebookName": "drop_history_tables",
   "widgets": {}
  },
  "language_info": {
   "name": "python"
  }
 },
 "nbformat": 4,
 "nbformat_minor": 0
}
