{
 "cells": [
  {
   "cell_type": "code",
   "execution_count": 0,
   "metadata": {
    "application/vnd.databricks.v1+cell": {
     "cellMetadata": {},
     "inputWidgets": {},
     "nuid": "82673cb9-1cdc-4512-853c-a8e8bbfed6c7",
     "showTitle": false,
     "tableResultSettingsMap": {},
     "title": ""
    }
   },
   "outputs": [],
   "source": [
    "import json\n",
    "from pathlib import Path\n",
    "from glob import glob\n",
    "\n",
    "paths = glob(\"../layer_02_silver/*.json\")\n",
    "\n",
    "for path in paths:\n",
    "    p = Path(path)\n",
    "    print(f\"Checking: {p}\")\n",
    "\n",
    "    settings = json.loads(p.read_text())\n",
    "    if \"startingVersion\" in settings.get(\"readStreamOptions\", {}):\n",
    "        print(f\"Removing startingVersion from: {p.name}\")\n",
    "        del settings[\"readStreamOptions\"][\"startingVersion\"]\n",
    "        p.write_text(json.dumps(settings, indent=4))\n",
    "    else:\n",
    "        print(f\"No startingVersion found in: {p.name}\")"
   ]
  }
 ],
 "metadata": {
  "application/vnd.databricks.v1+notebook": {
   "computePreferences": null,
   "dashboards": [],
   "environmentMetadata": {
    "base_environment": "",
    "environment_version": "3"
   },
   "inputWidgetPreferences": null,
   "language": "python",
   "notebookMetadata": {
    "pythonIndentUnit": 4
   },
   "notebookName": "reset_startingVersion_silver",
   "widgets": {}
  },
  "language_info": {
   "name": "python"
  }
 },
 "nbformat": 4,
 "nbformat_minor": 0
}
