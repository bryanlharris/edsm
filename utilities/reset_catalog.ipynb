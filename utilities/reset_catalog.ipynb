{
 "cells": [
  {
   "cell_type": "code",
   "execution_count": 0,
   "metadata": {
    "application/vnd.databricks.v1+cell": {
     "cellMetadata": {
      "byteLimit": 2048000,
      "rowLimit": 10000
     },
     "inputWidgets": {},
     "nuid": "b5745de4-f37c-4c50-bd55-af2dccb8878e",
     "showTitle": false,
     "tableResultSettingsMap": {},
     "title": ""
    }
   },
   "outputs": [],
   "source": [
    "%sh\n",
    "\n",
    "( cd /Volumes/edsm/bronze/utility && rm -rvf * )\n",
    "( cd /Volumes/edsm/silver/utility && rm -rvf * )\n",
    "( cd /Volumes/edsm/gold/utility   && rm -rvf * )"
   ]
  },
  {
   "cell_type": "code",
   "execution_count": 0,
   "metadata": {
    "application/vnd.databricks.v1+cell": {
     "cellMetadata": {
      "byteLimit": 2048000,
      "implicitDf": true,
      "rowLimit": 10000
     },
     "inputWidgets": {},
     "nuid": "0fff9897-62e3-482b-9e25-8e24fbbbb421",
     "showTitle": false,
     "tableResultSettingsMap": {},
     "title": ""
    }
   },
   "outputs": [],
   "source": [
    "catalog = dbutils.widgets.get(\"catalog\")\n",
    "schemas = spark.sql(f\"SHOW SCHEMAS IN {catalog}\").collect()\n",
    "for record in schemas:\n",
    "    schema = record.databaseName\n",
    "    if schema in [ \"default\", \"information_schema\", \"pg_catalog\" ]:\n",
    "        continue\n",
    "    tables = spark.sql(f\"SHOW TABLES IN {catalog}.{schema}\").collect()\n",
    "    for tbl in tables:\n",
    "        if tbl.isTemporary:\n",
    "            continue\n",
    "        table_name = tbl.tableName\n",
    "        desc = spark.sql(f\"DESCRIBE EXTENDED {catalog}.{schema}.{table_name}\").collect()\n",
    "        is_view = any(\"Type\" in row.col_name and \"VIEW\" in row.data_type for row in desc)\n",
    "        if is_view:\n",
    "            continue\n",
    "        print(f\"Dropping {catalog}.{schema}.{tbl.tableName}\")\n",
    "        spark.sql(f\"DROP TABLE {catalog}.{schema}.{tbl.tableName}\")"
   ]
  }
 ],
 "metadata": {
  "application/vnd.databricks.v1+notebook": {
   "computePreferences": null,
   "dashboards": [],
   "environmentMetadata": {
    "base_environment": "",
    "environment_version": "3"
   },
   "inputWidgetPreferences": {
    "autoRunOnWidgetChange": "no-auto-run"
   },
   "language": "python",
   "notebookMetadata": {
    "mostRecentlyExecutedCommandWithImplicitDF": {
     "commandId": 4842079886784063,
     "dataframes": [
      "_sqldf"
     ]
    },
    "pythonIndentUnit": 4
   },
   "notebookName": "reset_catalog",
   "widgets": {
    "catalog": {
     "currentValue": "edsm",
     "nuid": "8ab6f66f-b1ef-4c5a-b998-d663dc008162",
     "typedWidgetInfo": {
      "autoCreated": false,
      "defaultValue": "edsm",
      "label": "",
      "name": "catalog",
      "options": {
       "widgetDisplayType": "Dropdown",
       "choices": [
        "edsm"
       ],
       "fixedDomain": true,
       "multiselect": false
      },
      "parameterDataType": "String"
     },
     "widgetInfo": {
      "widgetType": "dropdown",
      "defaultValue": "edsm",
      "label": "",
      "name": "catalog",
      "options": {
       "widgetType": "dropdown",
       "autoCreated": false,
       "choices": [
        "edsm"
       ]
      }
     }
    }
   }
  },
  "language_info": {
   "name": "python"
  }
 },
 "nbformat": 4,
 "nbformat_minor": 0
}
