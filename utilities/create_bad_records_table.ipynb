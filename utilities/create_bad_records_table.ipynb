{
  "cells": [
    {
      "cell_type": "code",
      "execution_count": 0,
      "metadata": {
        "application/vnd.databricks.v1+cell": {
          "cellMetadata": {},
          "inputWidgets": {},
          "nuid": "4bc6a32f-d7f5-493c-8448-b36ca1d9d683",
          "showTitle": false,
          "tableResultSettingsMap": {},
          "title": ""
        }
      },
      "outputs": [],
      "source": [
        "import json\n",
        "from pathlib import Path\n",
        "from glob import glob\n",
        "\n",
        "paths = glob('../layer_01_bronze/*.json')\n",
        "table_map = {path.split('/')[-1].split('.')[0]: path for path in paths}\n",
        "tables = list(table_map.keys())\n",
        "tables.sort()\n",
        "tables.append('None Selected')\n",
        "dbutils.widgets.dropdown('table', 'None Selected', tables)\n"
      ]
    },
    {
      "cell_type": "code",
      "execution_count": 0,
      "metadata": {
        "application/vnd.databricks.v1+cell": {
          "cellMetadata": {},
          "inputWidgets": {},
          "nuid": "53a15662-0684-4325-91b3-d6148adfc249",
          "showTitle": false,
          "tableResultSettingsMap": {},
          "title": ""
        }
      },
      "outputs": [],
      "source": [
        "table_name = dbutils.widgets.get('table')\n"
      ]
    },
    {
      "cell_type": "code",
      "execution_count": 0,
      "metadata": {
        "application/vnd.databricks.v1+cell": {
          "cellMetadata": {},
          "inputWidgets": {},
          "nuid": "7de5e3c5-8990-4187-be87-82531ee89c3e",
          "showTitle": false,
          "tableResultSettingsMap": {},
          "title": ""
        }
      },
      "outputs": [],
      "source": [
        "import os\n",
        "import sys\n",
        "\n",
        "sys.path.append(f'{os.getcwd()}/..')\n",
        "from functions.utility import apply_job_type, print_settings, create_bad_records_table\n",
        "\n",
        "if table_name == 'None Selected':\n",
        "    print('No table selected.')\n",
        "else:\n",
        "    settings_path = table_map[table_name]\n",
        "    settings = json.loads(Path(settings_path).read_text())\n",
        "    settings = apply_job_type(settings)\n",
        "    print_settings({}, settings, 'bronze', table_name)\n",
        "    create_bad_records_table(settings, spark)\n"
      ]
    }
  ],
  "metadata": {
    "application/vnd.databricks.v1+notebook": {
      "computePreferences": null,
      "dashboards": [],
      "environmentMetadata": {
        "base_environment": "",
        "environment_version": "3"
      },
      "inputWidgetPreferences": null,
      "language": "python",
      "notebookMetadata": {
        "pythonIndentUnit": 4
      },
      "notebookName": "create_bad_records_table",
      "widgets": {}
    },
    "language_info": {
      "name": "python"
    }
  },
  "nbformat": 4,
  "nbformat_minor": 0
}