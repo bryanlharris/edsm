{
 "cells": [
  {
   "cell_type": "code",
   "execution_count": 0,
   "metadata": {
    "application/vnd.databricks.v1+cell": {
     "cellMetadata": {
      "byteLimit": 2048000,
      "rowLimit": 10000
     },
     "inputWidgets": {},
     "nuid": "00000000-0000-0000-0000-000000000000",
     "showTitle": false,
     "tableResultSettingsMap": {},
     "title": ""
    }
   },
   "outputs": [],
   "source": [
    "def drop_rescued_data_columns(spark, catalog):\n",
    "    spark.sql(f'use catalog {catalog}')\n",
    "    system_schemas = ['information_schema', 'sys']\n",
    "    schemas = [row.databaseName for row in spark.sql(f'SHOW SCHEMAS IN {catalog}').collect()]\n",
    "    for schema in schemas:\n",
    "        if schema in system_schemas:\n",
    "            print(f'Skipping system schema {schema}')\n",
    "            continue\n",
    "        tables = spark.sql(f'SHOW TABLES IN {catalog}.{schema}').filter('isTemporary = false')\n",
    "        view_rows = spark.sql(f'SHOW VIEWS IN {catalog}.{schema}').collect()\n",
    "        views = {row.viewName for row in view_rows}\n",
    "        for row in tables.collect():\n",
    "            name = row.tableName\n",
    "            if name in views:\n",
    "                print(f'Skipping view {catalog}.{schema}.{name}')\n",
    "                continue\n",
    "            columns = spark.table(f'{catalog}.{schema}.{name}').columns\n",
    "            if '_rescued_data' in columns:\n",
    "                spark.sql(f'ALTER TABLE {catalog}.{schema}.{name} SET TBLPROPERTIES (delta.columnMapping.mode=\"name\")')\n",
    "                spark.sql(f'ALTER TABLE {catalog}.{schema}.{name} DROP COLUMN _rescued_data')\n",
    "                print(f'Dropped _rescued_data from {catalog}.{schema}.{name}')\n",
    "            else:\n",
    "                print(f'Skipping {catalog}.{schema}.{name}: no _rescued_data')\n",
    "\n",
    "drop_rescued_data_columns(spark, 'edsm')"
   ]
  }
 ],
 "metadata": {
  "application/vnd.databricks.v1+notebook": {
   "computePreferences": null,
   "dashboards": [],
   "environmentMetadata": {
    "base_environment": "",
    "environment_version": "3"
   },
   "inputWidgetPreferences": null,
   "language": "python",
   "notebookMetadata": {
    "pythonIndentUnit": 4
   },
   "notebookName": "drop_rescued_data",
   "widgets": {}
  },
  "language_info": {
   "name": "python"
  }
 },
 "nbformat": 4,
 "nbformat_minor": 0
}
