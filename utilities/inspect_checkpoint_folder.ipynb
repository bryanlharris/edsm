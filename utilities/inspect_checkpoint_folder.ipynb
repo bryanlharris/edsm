{
 "cells": [
  {
   "cell_type": "code",
   "execution_count": 0,
   "metadata": {
    "application/vnd.databricks.v1+cell": {
     "cellMetadata": {
      "byteLimit": 2048000,
      "rowLimit": 10000
     },
     "inputWidgets": {},
     "nuid": "75d13328-4ecd-4bf8-b63d-360a10ac179f",
     "showTitle": false,
     "tableResultSettingsMap": {},
     "title": ""
    }
   },
   "outputs": [],
   "source": [
    "import os\n",
    "import sys\n",
    "import json\n",
    "from glob import glob\n",
    "from pathlib import Path\n",
    "\n",
    "# Step 1: Get list of tables from config files\n",
    "paths = glob(\"../layer_02_silver/*.json\")\n",
    "table_map = {path.split(\"/\")[-1].split(\".\")[0]: path for path in paths}\n",
    "tables = list(table_map.keys())\n",
    "tables.sort()\n",
    "tables.append(\"None Selected\")\n",
    "dbutils.widgets.dropdown(\"table\", \"None Selected\", tables)"
   ]
  },
  {
   "cell_type": "code",
   "execution_count": 0,
   "metadata": {
    "application/vnd.databricks.v1+cell": {
     "cellMetadata": {
      "byteLimit": 2048000,
      "rowLimit": 10000
     },
     "inputWidgets": {},
     "nuid": "6822316b-9e19-4845-b2d7-9c6c9bfb4d8f",
     "showTitle": false,
     "tableResultSettingsMap": {},
     "title": ""
    }
   },
   "outputs": [],
   "source": [
    "table_name = dbutils.widgets.get(\"table\")"
   ]
  },
  {
   "cell_type": "code",
   "execution_count": 0,
   "metadata": {
    "application/vnd.databricks.v1+cell": {
     "cellMetadata": {
      "byteLimit": 2048000,
      "rowLimit": 10000
     },
     "inputWidgets": {},
     "nuid": "15f0b5ca-f226-486b-a2e9-85ad87ac88ae",
     "showTitle": false,
     "tableResultSettingsMap": {},
     "title": ""
    }
   },
   "outputs": [],
   "source": [
    "import os\n",
    "import sys\n",
    "\n",
    "sys.path.append(f\"{os.getcwd()}/..\")\n",
    "from functions.utility import inspect_checkpoint_folder, apply_job_type, print_settings\n",
    "\n",
    "if table_name == \"None Selected\":\n",
    "    print(\"No table selected.\")\n",
    "else:\n",
    "    settings_path = table_map[table_name]\n",
    "    settings = json.loads(Path(settings_path).read_text())\n",
    "    settings = apply_job_type(settings)\n",
    "    print_settings({}, settings, 'silver', table_name)\n",
    "    inspect_checkpoint_folder(table_name, settings, spark)"
   ]
  },
  {
   "cell_type": "code",
   "execution_count": 0,
   "metadata": {
    "application/vnd.databricks.v1+cell": {
     "cellMetadata": {
      "byteLimit": 2048000,
      "implicitDf": true,
      "rowLimit": 10000
     },
     "inputWidgets": {},
     "nuid": "3187cc92-8b4f-4784-b3bd-c698eae3f7c1",
     "showTitle": false,
     "tableResultSettingsMap": {},
     "title": ""
    }
   },
   "outputs": [],
   "source": [
    "%sql\n",
    "\n",
    "describe history edsm.bronze.bodies7days"
   ]
  }
 ],
 "metadata": {
  "application/vnd.databricks.v1+notebook": {
   "computePreferences": null,
   "dashboards": [],
   "environmentMetadata": {
    "base_environment": "",
    "environment_version": "3"
   },
   "inputWidgetPreferences": null,
   "language": "python",
   "notebookMetadata": {
    "mostRecentlyExecutedCommandWithImplicitDF": {
     "commandId": 5913314758503035,
     "dataframes": [
      "_sqldf"
     ]
    },
    "pythonIndentUnit": 4
   },
   "notebookName": "inspect_checkpoint_folder",
   "widgets": {
    "table": {
     "currentValue": "bodies7days",
     "nuid": "90f4d22e-9e2c-4df7-8fe8-73f0cd145ae2",
     "typedWidgetInfo": {
      "autoCreated": false,
      "defaultValue": "None Selected",
      "label": null,
      "name": "table",
      "options": {
       "widgetDisplayType": "Dropdown",
       "choices": [
        "bodies7days",
        "codex",
        "powerPlay",
        "stations",
        "systemsPopulated",
        "systemsWithCoordinates7days",
        "systemsWithoutCoordinates",
        "None Selected"
       ],
       "fixedDomain": true,
       "multiselect": false
      },
      "parameterDataType": "String"
     },
     "widgetInfo": {
      "widgetType": "dropdown",
      "defaultValue": "None Selected",
      "label": null,
      "name": "table",
      "options": {
       "widgetType": "dropdown",
       "autoCreated": null,
       "choices": [
        "bodies7days",
        "codex",
        "powerPlay",
        "stations",
        "systemsPopulated",
        "systemsWithCoordinates7days",
        "systemsWithoutCoordinates",
        "None Selected"
       ]
      }
     }
    }
   }
  },
  "language_info": {
   "name": "python"
  }
 },
 "nbformat": 4,
 "nbformat_minor": 0
}