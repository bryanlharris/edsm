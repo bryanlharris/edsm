{
 "cells": [
  {
   "cell_type": "code",
   "execution_count": 0,
   "metadata": {
    "application/vnd.databricks.v1+cell": {
     "cellMetadata": {
      "byteLimit": 2048000,
      "rowLimit": 10000
     },
     "collapsed": true,
     "inputWidgets": {},
     "nuid": "c20c1902-0c2c-4716-9443-1723d0d9f398",
     "showTitle": false,
     "tableResultSettingsMap": {},
     "title": ""
    }
   },
   "outputs": [],
   "source": [
    "%load_ext autoreload\n",
    "%autoreload 2\n",
    "# Enables autoreload; learn more at https://docs.databricks.com/en/files/workspace-modules.html#autoreload-for-python-modules\n",
    "# To disable autoreload; run %autoreload 0"
   ]
  },
  {
   "cell_type": "code",
   "execution_count": 0,
   "metadata": {
    "application/vnd.databricks.v1+cell": {
     "cellMetadata": {
      "byteLimit": 2048000,
      "rowLimit": 10000
     },
     "inputWidgets": {},
     "nuid": "75d13328-4ecd-4bf8-b63d-360a10ac179f",
     "showTitle": false,
     "tableResultSettingsMap": {},
     "title": ""
    }
   },
   "outputs": [],
   "source": [
    "import os\n",
    "import sys\n",
    "import json\n",
    "from glob import glob\n",
    "from pathlib import Path\n",
    "\n",
    "# Step 1: Get list of tables from config files\n",
    "paths = glob(\"../layer_02_silver/*.json\")\n",
    "table_map = {path.split(\"/\")[-1].split(\".\")[0]: path for path in paths}\n",
    "tables = list(table_map.keys())\n",
    "tables.sort()\n",
    "tables.append(\"None Selected\")\n",
    "dbutils.widgets.dropdown(\"table\", \"None Selected\", tables)"
   ]
  },
  {
   "cell_type": "code",
   "execution_count": 0,
   "metadata": {
    "application/vnd.databricks.v1+cell": {
     "cellMetadata": {
      "byteLimit": 2048000,
      "rowLimit": 10000
     },
     "inputWidgets": {},
     "nuid": "6822316b-9e19-4845-b2d7-9c6c9bfb4d8f",
     "showTitle": false,
     "tableResultSettingsMap": {},
     "title": ""
    }
   },
   "outputs": [],
   "source": [
    "table_name = dbutils.widgets.get(\"table\")"
   ]
  },
  {
   "cell_type": "code",
   "execution_count": 0,
   "metadata": {
    "application/vnd.databricks.v1+cell": {
     "cellMetadata": {
      "byteLimit": 2048000,
      "rowLimit": 10000
     },
     "inputWidgets": {},
     "nuid": "15f0b5ca-f226-486b-a2e9-85ad87ac88ae",
     "showTitle": false,
     "tableResultSettingsMap": {},
     "title": ""
    }
   },
   "outputs": [],
   "source": [
    "import os\n",
    "import sys\n",
    "\n",
    "sys.path.append(f\"{os.getcwd()}/..\")\n",
    "from functions.utility import inspect_checkpoint_folder\n",
    "\n",
    "if table_name == \"None Selected\":\n",
    "    print(\"No table selected.\")\n",
    "else:\n",
    "    settings_path = table_map[table_name]\n",
    "    settings = json.loads(Path(settings_path).read_text())\n",
    "    inspect_checkpoint_folder(settings, table_name, spark)"
   ]
  }
 ],
 "metadata": {
  "application/vnd.databricks.v1+notebook": {
   "computePreferences": null,
   "dashboards": [],
   "environmentMetadata": {
    "base_environment": "",
    "environment_version": "2"
   },
   "inputWidgetPreferences": null,
   "language": "python",
   "notebookMetadata": {
    "pythonIndentUnit": 4
   },
   "notebookName": "inspect_checkpoint_folder",
   "widgets": {
    "table": {
     "currentValue": "stations",
     "nuid": "90f4d22e-9e2c-4df7-8fe8-73f0cd145ae2",
     "typedWidgetInfo": {
      "autoCreated": false,
      "defaultValue": "None Selected",
      "label": null,
      "name": "table",
      "options": {
       "widgetDisplayType": "Dropdown",
       "choices": [
        "bodies7days",
        "codex",
        "powerPlay",
        "stations",
        "systemsPopulated",
        "systemsWithCoordinates7days",
        "systemsWithoutCoordinates",
        "None Selected"
       ],
       "fixedDomain": true,
       "multiselect": false
      },
      "parameterDataType": "String"
     },
     "widgetInfo": {
      "widgetType": "dropdown",
      "defaultValue": "None Selected",
      "label": null,
      "name": "table",
      "options": {
       "widgetType": "dropdown",
       "autoCreated": null,
       "choices": [
        "bodies7days",
        "codex",
        "powerPlay",
        "stations",
        "systemsPopulated",
        "systemsWithCoordinates7days",
        "systemsWithoutCoordinates",
        "None Selected"
       ]
      }
     }
    }
   }
  },
  "language_info": {
   "name": "python"
  }
 },
 "nbformat": 4,
 "nbformat_minor": 0
}
