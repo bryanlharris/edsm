{
 "cells": [
  {
   "cell_type": "code",
   "execution_count": 0,
   "metadata": {
    "application/vnd.databricks.v1+cell": {
     "cellMetadata": {
      "byteLimit": 2048000,
      "rowLimit": 10000
     },
     "inputWidgets": {},
     "nuid": "12bad1c1-32ad-4cf9-84d9-ead2aef5441d",
     "showTitle": false,
     "tableResultSettingsMap": {},
     "title": ""
    }
   },
   "outputs": [],
   "source": [
    "import json\n",
    "\n",
    "df = spark.read.format(\"json\").load(\"/Volumes/edsm/bronze/landing/20250617/powerPlay.json\")\n",
    "schema_json_str = df.schema.json()\n",
    "schema_json = json.loads(schema_json_str)\n",
    "print(json.dumps(schema_json, indent=4))\n",
    "\n",
    "\n",
    "\n",
    "# schema = StructType.fromJson(json.loads(schema))\n",
    "# print(repr(schema))"
   ]
  }
 ],
 "metadata": {
  "application/vnd.databricks.v1+notebook": {
   "computePreferences": null,
   "dashboards": [],
   "environmentMetadata": {
    "base_environment": "",
    "environment_version": "2"
   },
   "inputWidgetPreferences": null,
   "language": "python",
   "notebookMetadata": {
    "pythonIndentUnit": 4
   },
   "notebookName": "01_construct_schema",
   "widgets": {}
  },
  "language_info": {
   "name": "python"
  }
 },
 "nbformat": 4,
 "nbformat_minor": 0
}
