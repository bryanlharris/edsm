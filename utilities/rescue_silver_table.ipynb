{
 "cells": [
  {
   "cell_type": "code",
   "execution_count": 0,
   "metadata": {
    "application/vnd.databricks.v1+cell": {
     "cellMetadata": {
      "byteLimit": 2048000,
      "rowLimit": 10000
     },
     "inputWidgets": {},
     "nuid": "ef43a713-3da2-479f-a96d-30f42a45a568",
     "showTitle": false,
     "tableResultSettingsMap": {},
     "title": ""
    }
   },
   "outputs": [],
   "source": [
    "import json\n",
    "from glob import glob\n",
    "\n",
    "paths = glob(\"../layer_02_silver/*.json\")\n",
    "tables = [path.split(\"/\")[-1].split(\".\")[0] for path in paths] + [\"None Selected\"]\n",
    "\n",
    "dbutils.widgets.dropdown(name=\"table\", defaultValue=\"None Selected\", choices=tables)"
   ]
  },
  {
   "cell_type": "code",
   "execution_count": 0,
   "metadata": {
    "application/vnd.databricks.v1+cell": {
     "cellMetadata": {
      "byteLimit": 2048000,
      "rowLimit": 10000
     },
     "inputWidgets": {},
     "nuid": "7a4dd9dc-9c26-4105-ba06-dfcf910554a6",
     "showTitle": false,
     "tableResultSettingsMap": {},
     "title": ""
    }
   },
   "outputs": [],
   "source": [
    "table_name = dbutils.widgets.get(name=\"table\")"
   ]
  },
  {
   "cell_type": "code",
   "execution_count": 0,
   "metadata": {
    "application/vnd.databricks.v1+cell": {
     "cellMetadata": {
      "byteLimit": 2048000,
      "rowLimit": 10000
     },
     "inputWidgets": {},
     "nuid": "17237d15-f4d1-4228-8874-2675c7ecc187",
     "showTitle": false,
     "tableResultSettingsMap": {},
     "title": ""
    }
   },
   "outputs": [],
   "source": [
    "import os\n",
    "import sys\n",
    "\n",
    "sys.path.append(f\"{os.getcwd()}/..\")\n",
    "from functions.rescue import rescue_silver_table"
   ]
  },
  {
   "cell_type": "code",
   "execution_count": 0,
   "metadata": {
    "application/vnd.databricks.v1+cell": {
     "cellMetadata": {},
     "inputWidgets": {},
     "nuid": "944144af-7713-4bbf-ab7b-85110bd5f949",
     "showTitle": false,
     "tableResultSettingsMap": {},
     "title": ""
    }
   },
   "outputs": [],
   "source": [
    "print(f\"Rescuing table: {table_name}\")\n",
    "rescue_silver_table(\"timestamp\", spark, table_name)"
   ]
  }
 ],
 "metadata": {
  "application/vnd.databricks.v1+notebook": {
   "computePreferences": null,
   "dashboards": [],
   "environmentMetadata": {
    "base_environment": "",
    "environment_version": "2"
   },
   "inputWidgetPreferences": null,
   "language": "python",
   "notebookMetadata": {
    "pythonIndentUnit": 4,
    "widgetLayout": [
     {
      "breakBefore": false,
      "name": "table",
      "width": 309
     }
    ]
   },
   "notebookName": "rescue_silver_table",
   "widgets": {
    "table": {
     "currentValue": "powerPlay",
     "nuid": "3b7ee5e9-ad44-4de7-8d48-cd2d7999d4a5",
     "typedWidgetInfo": {
      "autoCreated": false,
      "defaultValue": "None Selected",
      "label": null,
      "name": "table",
      "options": {
       "widgetDisplayType": "Dropdown",
       "choices": [
        "powerPlay",
        "systemsWithCoordinates7days",
        "systemsWithCoordinates",
        "systemsWithoutCoordinates",
        "bodies7days",
        "codex",
        "stations",
        "systemsPopulated",
        "None Selected"
       ],
       "fixedDomain": true,
       "multiselect": false
      },
      "parameterDataType": "String"
     },
     "widgetInfo": {
      "widgetType": "dropdown",
      "defaultValue": "None Selected",
      "label": null,
      "name": "table",
      "options": {
       "widgetType": "dropdown",
       "autoCreated": null,
       "choices": [
        "powerPlay",
        "systemsWithCoordinates7days",
        "systemsWithCoordinates",
        "systemsWithoutCoordinates",
        "bodies7days",
        "codex",
        "stations",
        "systemsPopulated",
        "None Selected"
       ]
      }
     }
    }
   }
  },
  "language_info": {
   "name": "python"
  }
 },
 "nbformat": 4,
 "nbformat_minor": 0
}
