{
 "cells": [
  {
   "cell_type": "code",
   "execution_count": 0,
   "metadata": {
    "application/vnd.databricks.v1+cell": {
     "cellMetadata": {
      "byteLimit": 2048000,
      "rowLimit": 10000
     },
     "inputWidgets": {},
     "nuid": "e735335e-503f-4c0e-a94e-e2a9ec5ed820",
     "showTitle": false,
     "tableResultSettingsMap": {},
     "title": ""
    }
   },
   "outputs": [],
   "source": [
    "import json\n",
    "from glob import glob\n",
    "\n",
    "paths = glob('../layer_*/*.json')\n",
    "schema_table_map = {}\n",
    "for path in paths:\n",
    "    with open(path) as f:\n",
    "        settings = json.load(f)\n",
    "    dst = settings.get('dst_table_name')\n",
    "    if dst:\n",
    "        catalog, schema, table = dst.split('.')\n",
    "        schema_key = f\"{catalog}.{schema}\"\n",
    "        schema_table_map.setdefault(schema_key, []).append(table)\n",
    "\n",
    "for tables in schema_table_map.values():\n",
    "    tables.sort()\n",
    "\n",
    "schemas = sorted(schema_table_map.keys())\n",
    "\n",
    "if schemas:\n",
    "    dbutils.widgets.combobox('schema', schemas[0], schemas)\n",
    "else:\n",
    "    dbutils.widgets.combobox('schema', '', [])\n"
   ]
  },
  {
   "cell_type": "code",
   "execution_count": 0,
   "metadata": {
    "application/vnd.databricks.v1+cell": {
     "cellMetadata": {
      "byteLimit": 2048000,
      "rowLimit": 10000
     },
     "inputWidgets": {},
     "nuid": "46f24870-5f25-42f6-8d7f-25ea21ebef76",
     "showTitle": false,
     "tableResultSettingsMap": {},
     "title": ""
    }
   },
   "outputs": [],
   "source": [
    "schema = dbutils.widgets.get('schema')\n",
    "tables = schema_table_map.get(schema, [])\n",
    "\n",
    "if tables:\n",
    "    dbutils.widgets.combobox('table', tables[0], tables)\n",
    "else:\n",
    "    dbutils.widgets.combobox('table', '', [])\n"
   ]
  },
  {
   "cell_type": "code",
   "execution_count": 0,
   "metadata": {
    "application/vnd.databricks.v1+cell": {
     "cellMetadata": {
      "byteLimit": 2048000,
      "rowLimit": 10000
     },
     "inputWidgets": {},
     "nuid": "ec349712-f134-4d71-b864-64fe529691f9",
     "showTitle": false,
     "tableResultSettingsMap": {},
     "title": ""
    }
   },
   "outputs": [],
   "source": [
    "schema = dbutils.widgets.get('schema')\n",
    "table = dbutils.widgets.get('table')\n",
    "if schema and table:\n",
    "    full_name = f\"{schema}.{table}\"\n",
    "    hist = spark.sql(f\"DESCRIBE HISTORY {full_name}\")\n",
    "    versions = [str(r['version']) for r in hist.select('version').collect()]\n",
    "    versions = sorted(versions, key=int, reverse=True)\n",
    "else:\n",
    "    versions = []\n",
    "\n",
    "if versions:\n",
    "    dbutils.widgets.combobox('version', versions[0], versions)\n",
    "else:\n",
    "    dbutils.widgets.combobox('version', '', [])\n"
   ]
  },
  {
   "cell_type": "code",
   "execution_count": 0,
   "metadata": {
    "application/vnd.databricks.v1+cell": {
     "cellMetadata": {
      "byteLimit": 2048000,
      "rowLimit": 10000
     },
     "inputWidgets": {},
     "nuid": "7e3fb182-d97e-43a8-9546-d063f933e198",
     "showTitle": false,
     "tableResultSettingsMap": {},
     "title": ""
    }
   },
   "outputs": [],
   "source": [
    "schema = dbutils.widgets.get('schema')\n",
    "table = dbutils.widgets.get('table')\n",
    "version = dbutils.widgets.get('version')"
   ]
  },
  {
   "cell_type": "code",
   "execution_count": 0,
   "metadata": {
    "application/vnd.databricks.v1+cell": {
     "cellMetadata": {
      "byteLimit": 2048000,
      "rowLimit": 10000
     },
     "inputWidgets": {},
     "nuid": "c82171b5-8988-474d-a65d-f05e6fe32e53",
     "showTitle": false,
     "tableResultSettingsMap": {},
     "title": ""
    }
   },
   "outputs": [],
   "source": [
    "full_table_name = f\"{schema}.{table}\"\n",
    "print(f'Restoring {full_table_name} to version {version}')\n",
    "if schema and table and version:\n",
    "    spark.sql(f\"RESTORE TABLE {full_table_name} TO VERSION AS OF {version}\")\n"
   ]
  }
 ],
 "metadata": {
  "application/vnd.databricks.v1+notebook": {
   "computePreferences": {
    "hardware": {
     "accelerator": null,
     "gpuPoolId": null,
     "memory": null
    }
   },
   "dashboards": [],
   "environmentMetadata": {
    "base_environment": "",
    "environment_version": "3"
   },
   "inputWidgetPreferences": null,
   "language": "python",
   "notebookMetadata": {
    "pythonIndentUnit": 4
   },
   "notebookName": "restore_table_version",
   "widgets": {
    "schema": {
     "currentValue": "edsm.silver",
     "nuid": "b723f256-366f-41df-9a6e-963ce192f22e",
     "typedWidgetInfo": {
      "autoCreated": false,
      "defaultValue": "edsm.bronze",
      "label": null,
      "name": "schema",
      "options": {
       "widgetDisplayType": "Dropdown",
       "choices": [
        "edsm.bronze",
        "edsm.silver",
        "edsm.silver_samples"
       ],
       "fixedDomain": false,
       "multiselect": false
      },
      "parameterDataType": "String"
     },
     "widgetInfo": {
      "widgetType": "combobox",
      "defaultValue": "edsm.bronze",
      "label": null,
      "name": "schema",
      "options": {
       "widgetType": "dropdown",
       "autoCreated": null,
       "choices": [
        "edsm.bronze",
        "edsm.silver",
        "edsm.silver_samples"
       ]
      }
     }
    },
    "table": {
     "currentValue": "systemsWithoutCoordinates",
     "nuid": "19fac5d3-0961-40fc-8bee-c4ec78a970ea",
     "typedWidgetInfo": {
      "autoCreated": false,
      "defaultValue": "bodies7days",
      "label": null,
      "name": "table",
      "options": {
       "widgetDisplayType": "Dropdown",
       "choices": [
        "bodies7days",
        "codex",
        "powerPlay",
        "stations",
        "systemsPopulated",
        "systemsWithCoordinates",
        "systemsWithoutCoordinates"
       ],
       "fixedDomain": false,
       "multiselect": false
      },
      "parameterDataType": "String"
     },
     "widgetInfo": {
      "widgetType": "combobox",
      "defaultValue": "bodies7days",
      "label": null,
      "name": "table",
      "options": {
       "widgetType": "dropdown",
       "autoCreated": null,
       "choices": [
        "bodies7days",
        "codex",
        "powerPlay",
        "stations",
        "systemsPopulated",
        "systemsWithCoordinates",
        "systemsWithoutCoordinates"
       ]
      }
     }
    },
    "version": {
     "currentValue": "85",
     "nuid": "39f2ce8f-ba60-458f-9036-a71f616f341d",
     "typedWidgetInfo": {
      "autoCreated": false,
      "defaultValue": "86",
      "label": null,
      "name": "version",
      "options": {
       "widgetDisplayType": "Dropdown",
       "choices": [
        "86",
        "85",
        "84",
        "83",
        "82",
        "81",
        "80",
        "79",
        "78",
        "77",
        "76",
        "75",
        "74",
        "73",
        "72",
        "71",
        "70",
        "69",
        "68",
        "67",
        "66",
        "65",
        "64",
        "63",
        "62",
        "61",
        "60",
        "59",
        "58",
        "57",
        "56",
        "55",
        "54",
        "53",
        "52",
        "51",
        "50",
        "49",
        "48",
        "47",
        "46",
        "45",
        "44",
        "43",
        "42",
        "41",
        "40",
        "39",
        "38",
        "37",
        "36",
        "35",
        "34",
        "33",
        "32",
        "31",
        "30",
        "29",
        "28",
        "27",
        "26",
        "25",
        "24",
        "23",
        "22",
        "21",
        "20",
        "19",
        "18",
        "17",
        "16",
        "15",
        "14",
        "13",
        "12",
        "11",
        "10",
        "9",
        "8",
        "7",
        "6",
        "5",
        "4",
        "3",
        "2",
        "1",
        "0"
       ],
       "fixedDomain": false,
       "multiselect": false
      },
      "parameterDataType": "String"
     },
     "widgetInfo": {
      "widgetType": "combobox",
      "defaultValue": "86",
      "label": null,
      "name": "version",
      "options": {
       "widgetType": "dropdown",
       "autoCreated": null,
       "choices": [
        "86",
        "85",
        "84",
        "83",
        "82",
        "81",
        "80",
        "79",
        "78",
        "77",
        "76",
        "75",
        "74",
        "73",
        "72",
        "71",
        "70",
        "69",
        "68",
        "67",
        "66",
        "65",
        "64",
        "63",
        "62",
        "61",
        "60",
        "59",
        "58",
        "57",
        "56",
        "55",
        "54",
        "53",
        "52",
        "51",
        "50",
        "49",
        "48",
        "47",
        "46",
        "45",
        "44",
        "43",
        "42",
        "41",
        "40",
        "39",
        "38",
        "37",
        "36",
        "35",
        "34",
        "33",
        "32",
        "31",
        "30",
        "29",
        "28",
        "27",
        "26",
        "25",
        "24",
        "23",
        "22",
        "21",
        "20",
        "19",
        "18",
        "17",
        "16",
        "15",
        "14",
        "13",
        "12",
        "11",
        "10",
        "9",
        "8",
        "7",
        "6",
        "5",
        "4",
        "3",
        "2",
        "1",
        "0"
       ]
      }
     }
    }
   }
  },
  "language_info": {
   "name": "python"
  }
 },
 "nbformat": 4,
 "nbformat_minor": 0
}
