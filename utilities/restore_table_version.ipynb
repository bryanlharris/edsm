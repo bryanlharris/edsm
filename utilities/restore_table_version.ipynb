{
    "cells": [
        {
            "cell_type": "code",
            "execution_count": null,
            "id": "aabf4eb0",
            "metadata": {},
            "outputs": [],
            "source": [
                "import json\n",
                "from glob import glob\n",
                "\n",
                "paths = glob('../layer_*/*.json')\n",
                "schema_table_map = {}\n",
                "for path in paths:\n",
                "    with open(path) as f:\n",
                "        settings = json.load(f)\n",
                "    dst = settings.get('dst_table_name')\n",
                "    if dst:\n",
                "        catalog, schema, table = dst.split('.')\n",
                "        schema_key = f\"{catalog}.{schema}\"\n",
                "        schema_table_map.setdefault(schema_key, []).append(table)\n",
                "\n",
                "for tables in schema_table_map.values():\n",
                "    tables.sort()\n",
                "\n",
                "schemas = sorted(schema_table_map.keys())\n",
                "\n",
                "if schemas:\n",
                "    dbutils.widgets.combobox('schema', schemas[0], schemas)\n",
                "else:\n",
                "    dbutils.widgets.combobox('schema', '', [])\n"
            ]
        },
        {
            "cell_type": "code",
            "execution_count": null,
            "id": "532ec207",
            "metadata": {},
            "outputs": [],
            "source": [
                "schema = dbutils.widgets.get('schema')\n",
                "tables = schema_table_map.get(schema, [])\n",
                "\n",
                "if tables:\n",
                "    dbutils.widgets.combobox('table', tables[0], tables)\n",
                "else:\n",
                "    dbutils.widgets.combobox('table', '', [])\n"
            ]
        },
        {
            "cell_type": "code",
            "execution_count": null,
            "id": "946fd0de",
            "metadata": {},
            "outputs": [],
            "source": [
                "schema = dbutils.widgets.get('schema')\n",
                "table = dbutils.widgets.get('table')\n",
                "if schema and table:\n",
                "    full_name = f\"{schema}.{table}\"\n",
                "    hist = spark.sql(f\"DESCRIBE HISTORY {full_name}\")\n",
                "    versions = [str(r['version']) for r in hist.select('version').collect()]\n",
                "    versions = sorted(versions, key=int, reverse=True)\n",
                "else:\n",
                "    versions = []\n",
                "\n",
                "if versions:\n",
                "    dbutils.widgets.combobox('version', versions[0], versions)\n",
                "else:\n",
                "    dbutils.widgets.combobox('version', '', [])\n"
            ]
        },
        {
            "cell_type": "code",
            "execution_count": null,
            "id": "8c101f37",
            "metadata": {},
            "outputs": [],
            "source": [
                "schema = dbutils.widgets.get('schema')\n",
                "table = dbutils.widgets.get('table')\n",
                "version = dbutils.widgets.get('version')\n",
                "full_table_name = f\"{schema}.{table}\"\n",
                "print(f'Restoring {full_table_name} to version {version}')\n",
                "if schema and table and version:\n",
                "    spark.sql(f\"RESTORE TABLE {full_table_name} TO VERSION AS OF {version}\")\n"
            ]
        }
    ],
    "metadata": {
        "application/vnd.databricks.v1+notebook": {
            "computePreferences": null,
            "dashboards": [],
            "environmentMetadata": {
                "base_environment": "",
                "environment_version": "3"
            },
            "inputWidgetPreferences": null,
            "language": "python",
            "notebookMetadata": {
                "pythonIndentUnit": 4
            },
            "notebookName": "restore_table_version",
            "widgets": {}
        },
        "language_info": {
            "name": "python"
        }
    },
    "nbformat": 4,
    "nbformat_minor": 5
}
