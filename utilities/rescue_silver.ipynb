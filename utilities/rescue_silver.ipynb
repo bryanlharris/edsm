{
 "cells": [
  {
   "cell_type": "code",
   "execution_count": 0,
   "metadata": {
    "application/vnd.databricks.v1+cell": {
     "cellMetadata": {
      "byteLimit": 2048000,
      "rowLimit": 10000
     },
     "inputWidgets": {},
     "nuid": "6ba5ce0a-4e77-498a-82ce-255b1f315d6d",
     "showTitle": false,
     "tableResultSettingsMap": {},
     "title": ""
    }
   },
   "outputs": [],
   "source": [
    "import json\n",
    "from pathlib import Path\n",
    "from layer_02_silver import edsm_silver_transform, edsm_silver_upsert\n",
    "from functions import create_table_if_not_exists\n",
    "from pyspark.sql.functions import col\n",
    "\n",
    "settings = json.loads(Path(\"../layer_02_silver/powerPlay.json\").read_text())\n",
    "settings[\"src_table_name\"] = \"edsm.bronze.powerplay\"\n",
    "settings[\"dst_table_name\"] = \"edsm.silver.powerplay_rescue\"\n",
    "\n",
    "history = spark.sql(f\"DESCRIBE HISTORY {settings['src_table_name']}\")\n",
    "max_version = history.agg({\"version\":\"max\"}).first()[0]\n",
    "print(max_version)\n",
    "\n",
    "spark.sql(f\"DROP TABLE IF EXISTS {settings['dst_table_name']}\")\n",
    "upsert = edsm_silver_upsert(spark, settings)\n",
    "\n",
    "for version in range(1, max_version+1):\n",
    "    if version == 1:\n",
    "        df = spark.read.format(\"delta\").option(\"versionAsOf\", version).table(settings[\"src_table_name\"])\n",
    "        df = edsm_silver_transform(spark, settings, df)\n",
    "        create_table_if_not_exists(spark, df, settings[\"dst_table_name\"])\n",
    "        print(version)\n",
    "        continue\n",
    "\n",
    "    prev = spark.read.format(\"delta\").option(\"versionAsOf\", version-1).table(settings[\"src_table_name\"])\n",
    "    cur  = spark.read.format(\"delta\").option(\"versionAsOf\", version).table(settings[\"src_table_name\"])\n",
    "    df   = cur.subtract(prev)\n",
    "\n",
    "    df = edsm_silver_transform(spark, settings, df)\n",
    "    upsert(df, version-1)\n",
    "    print(version)"
   ]
  }
 ],
 "metadata": {
  "application/vnd.databricks.v1+notebook": {
   "computePreferences": null,
   "dashboards": [],
   "environmentMetadata": {
    "base_environment": "",
    "environment_version": "2"
   },
   "inputWidgetPreferences": null,
   "language": "python",
   "notebookMetadata": {
    "mostRecentlyExecutedCommandWithImplicitDF": {
     "commandId": 6912833580412749,
     "dataframes": [
      "_sqldf"
     ]
    },
    "pythonIndentUnit": 4
   },
   "notebookName": "rescue_silver",
   "widgets": {}
  },
  "language_info": {
   "name": "python"
  }
 },
 "nbformat": 4,
 "nbformat_minor": 0
}
