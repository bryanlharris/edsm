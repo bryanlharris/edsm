{
 "cells": [
  {
   "cell_type": "code",
   "execution_count": 0,
   "metadata": {
    "application/vnd.databricks.v1+cell": {
     "cellMetadata": {
      "byteLimit": 2048000,
      "rowLimit": 10000
     },
     "inputWidgets": {},
     "nuid": "17237d15-f4d1-4228-8874-2675c7ecc187",
     "showTitle": false,
     "tableResultSettingsMap": {},
     "title": ""
    }
   },
   "outputs": [],
   "source": [
    "import json\n",
    "from glob import glob\n",
    "from functions.rescue import rescue_gold_table\n",
    "\n",
    "paths = glob(\"../layer_03_gold/*.json\")\n",
    "tables = [path.split(\"/\")[-1].split(\".\")[0] for path in paths]\n",
    "\n",
    "for table_name in tables:\n",
    "    print(f\"Rescuing table: {table_name}\")\n",
    "    rescue_gold_table(spark, table_name)"
   ]
  }
 ],
 "metadata": {
  "application/vnd.databricks.v1+notebook": {
   "computePreferences": null,
   "dashboards": [],
   "environmentMetadata": {
    "base_environment": "",
    "environment_version": "2"
   },
   "inputWidgetPreferences": null,
   "language": "python",
   "notebookMetadata": {
    "pythonIndentUnit": 4
   },
   "notebookName": "rescue_gold_schema",
   "widgets": {}
  },
  "language_info": {
   "name": "python"
  }
 },
 "nbformat": 4,
 "nbformat_minor": 0
}
