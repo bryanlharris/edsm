{
 "cells": [
  {
   "cell_type": "code",
   "execution_count": 0,
   "metadata": {
    "application/vnd.databricks.v1+cell": {
     "cellMetadata": {
      "byteLimit": 2048000,
      "rowLimit": 10000
     },
     "inputWidgets": {},
     "nuid": "5b45aab8-0764-4b68-a708-d605c2754b40",
     "showTitle": false,
     "tableResultSettingsMap": {},
     "title": ""
    }
   },
   "outputs": [],
   "source": [
    "catalog = \"edsm\"\n",
    "schemas = spark.sql(f\"SHOW SCHEMAS IN {catalog}\").collect()\n",
    "for record in schemas:\n",
    "    schema = record.databaseName\n",
    "    if schema in [ \"default\", \"information_schema\", \"pg_catalog\" ]:\n",
    "        continue\n",
    "    tables = spark.sql(f\"SHOW TABLES IN {catalog}.{schema}\").collect()\n",
    "    for tbl in tables:\n",
    "        if tbl.isTemporary:\n",
    "            continue\n",
    "        table_name = tbl.tableName\n",
    "        desc = spark.sql(f\"DESCRIBE EXTENDED {catalog}.{schema}.{table_name}\").collect()\n",
    "        is_view = any(\"Type\" in row.col_name and \"VIEW\" in row.data_type for row in desc)\n",
    "        if is_view:\n",
    "            continue\n",
    "        full_name = f\"{catalog}.{schema}.{tbl.tableName}\"\n",
    "        print(f\"Optimizing {full_name}\")\n",
    "        spark.sql(f\"OPTIMIZE {full_name}\")\n",
    "        print(f\"Vacuuming {full_name}\")\n",
    "        spark.sql(f\"VACUUM {full_name} \")"
   ]
  }
 ],
 "metadata": {
  "application/vnd.databricks.v1+notebook": {
   "computePreferences": null,
   "dashboards": [],
   "environmentMetadata": {
    "base_environment": "",
    "environment_version": "2"
   },
   "inputWidgetPreferences": null,
   "language": "python",
   "notebookMetadata": {
    "mostRecentlyExecutedCommandWithImplicitDF": {
     "commandId": 5672743632856578,
     "dataframes": [
      "_sqldf"
     ]
    },
    "pythonIndentUnit": 4
   },
   "notebookName": "optimize_and_vacuum",
   "widgets": {}
  },
  "language_info": {
   "name": "python"
  }
 },
 "nbformat": 4,
 "nbformat_minor": 0
}
