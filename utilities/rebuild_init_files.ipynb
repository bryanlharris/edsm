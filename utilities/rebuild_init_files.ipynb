{
 "cells": [
  {
   "cell_type": "code",
   "execution_count": 0,
   "metadata": {
    "application/vnd.databricks.v1+cell": {
     "cellMetadata": {
      "byteLimit": 2048000,
      "rowLimit": 10000
     },
     "inputWidgets": {},
     "nuid": "b7e38ed6-6f25-4367-a846-4545de411f4b",
     "showTitle": false,
     "tableResultSettingsMap": {},
     "title": ""
    }
   },
   "outputs": [],
   "source": [
    "import os\n",
    "import ast\n",
    "\n",
    "def extract_function_names(filepath):\n",
    "    with open(filepath, \"r\", encoding=\"utf-8\") as f:\n",
    "        tree = ast.parse(f.read(), filename=filepath)\n",
    "    return [node.name for node in tree.body if isinstance(node, ast.FunctionDef)]\n",
    "\n",
    "def generate_init_file(directory):\n",
    "    lines = []\n",
    "    all_exports = []\n",
    "    for filename in sorted(os.listdir(directory)):\n",
    "        fullpath = os.path.join(directory, filename)\n",
    "        if filename.endswith(\".py\") and filename != \"__init__.py\" and os.path.isfile(fullpath):\n",
    "            modname = filename[:-3]\n",
    "            func_names = extract_function_names(fullpath)\n",
    "            if func_names:\n",
    "                lines.append(f\"from .{modname} import \" + \", \".join(func_names))\n",
    "                all_exports.extend(func_names)\n",
    "    if all_exports:\n",
    "        lines.append(\"\")\n",
    "        lines.append(\"__all__ = [\" + \", \".join(f'\"{name}\"' for name in all_exports) + \"]\")\n",
    "    init_path = os.path.join(directory, \"__init__.py\")\n",
    "    with open(init_path, \"w\", encoding=\"utf-8\") as f:\n",
    "        f.write(\"\\n\".join(lines) + \"\\n\")\n",
    "\n",
    "os.chdir(\"..\")\n",
    "for layer in [ \"functions\" ]:\n",
    "    generate_init_file(layer)"
   ]
  }
 ],
 "metadata": {
  "application/vnd.databricks.v1+notebook": {
   "computePreferences": {
    "hardware": {
     "accelerator": null,
     "gpuPoolId": null,
     "memory": "STANDARD"
    }
   },
   "dashboards": [],
   "environmentMetadata": {
    "base_environment": "",
    "environment_version": "2"
   },
   "inputWidgetPreferences": null,
   "language": "python",
   "notebookMetadata": {
    "pythonIndentUnit": 4
   },
   "notebookName": "rebuild_init_files",
   "widgets": {}
  },
  "language_info": {
   "name": "python"
  }
 },
 "nbformat": 4,
 "nbformat_minor": 0
}
