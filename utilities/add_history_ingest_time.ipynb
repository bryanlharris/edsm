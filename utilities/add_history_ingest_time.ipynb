{
 "cells": [
  {
   "cell_type": "code",
   "execution_count": 0,
   "metadata": {
    "application/vnd.databricks.v1+cell": {
     "cellMetadata": {
      "byteLimit": 2048000,
      "rowLimit": 10000
     },
     "inputWidgets": {},
     "nuid": "00000000-0000-0000-0000-000000000000",
     "showTitle": false,
     "tableResultSettingsMap": {},
     "title": ""
    }
   },
   "outputs": [],
   "source": [
    "def add_ingest_time_column(schema, spark):\n",
    "    tables = spark.sql(f'SHOW TABLES IN {schema}').filter('isTemporary = false')\n",
    "    table_names = [row.tableName for row in tables.collect()]\n",
    "    for name in table_names:\n",
    "        columns = spark.table(f'{schema}.{name}').columns\n",
    "        if 'ingest_time' not in columns:\n",
    "            spark.sql(f'ALTER TABLE {schema}.{name} ADD COLUMNS (ingest_time TIMESTAMP)')\n",
    "            print(f'Added ingest_time to {schema}.{name}')\n",
    "        else:\n",
    "            print(f'Skipping {schema}.{name}: ingest_time already exists')\n",
    "\n",
    "add_ingest_time_column('edsm.history', spark)"
   ]
  },
  {
   "cell_type": "code",
   "execution_count": 0,
   "metadata": {
    "application/vnd.databricks.v1+cell": {
     "cellMetadata": {
      "byteLimit": 2048000,
      "rowLimit": 10000
     },
     "inputWidgets": {},
     "nuid": "00000000-0000-0000-0000-000000000001",
     "showTitle": false,
     "tableResultSettingsMap": {},
     "title": ""
    }
   },
   "outputs": [],
   "source": [
    "def add_row_hash_column(schema, spark):\n",
    "    tables = spark.sql(f'SHOW TABLES IN {schema}').filter('isTemporary = false')\n",
    "    table_names = [row.tableName for row in tables.collect()]\n",
    "    for name in table_names:\n",
    "        columns = spark.table(f'{schema}.{name}').columns\n",
    "        if 'row_hash' not in columns:\n",
    "            spark.sql(f'ALTER TABLE {schema}.{name} ADD COLUMNS (row_hash STRING)')\n",
    "            print(f'Added row_hash to {schema}.{name}')\n",
    "        else:\n",
    "            print(f'Skipping {schema}.{name}: row_hash already exists')\n",
    "\n",
    "add_row_hash_column('edsm.history', spark)"
   ]
  }
 ],
 "metadata": {
  "application/vnd.databricks.v1+notebook": {
   "computePreferences": null,
   "dashboards": [],
   "environmentMetadata": {
    "base_environment": "",
    "environment_version": "2"
   },
   "inputWidgetPreferences": null,
   "language": "python",
   "notebookMetadata": {
    "pythonIndentUnit": 4
   },
   "notebookName": "add_history_ingest_time",
   "widgets": {}
  },
  "language_info": {
   "name": "python"
  }
 },
 "nbformat": 4,
 "nbformat_minor": 0
}