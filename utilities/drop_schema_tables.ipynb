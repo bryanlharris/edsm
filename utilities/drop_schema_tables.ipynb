{
 "cells": [
  {
   "cell_type": "code",
   "execution_count": 0,
   "metadata": {
    "application/vnd.databricks.v1+cell": {
     "cellMetadata": {
      "byteLimit": 2048000,
      "rowLimit": 10000
     },
     "inputWidgets": {},
     "nuid": "4ad0be51-eaef-4207-a95c-64df3a5647d5",
     "showTitle": false,
     "tableResultSettingsMap": {},
     "title": ""
    }
   },
   "outputs": [],
   "source": [
    "dbutils.widgets.removeAll()"
   ]
  },
  {
   "cell_type": "code",
   "execution_count": 0,
   "metadata": {
    "application/vnd.databricks.v1+cell": {
     "cellMetadata": {
      "byteLimit": 2048000,
      "rowLimit": 10000
     },
     "inputWidgets": {},
     "nuid": "25f842f3-4c3e-4e02-9463-f32de9e9c2c9",
     "showTitle": false,
     "tableResultSettingsMap": {},
     "title": ""
    }
   },
   "outputs": [],
   "source": [
    "catalogs = [row.catalog for row in spark.sql(\"SHOW CATALOGS\").collect()]\n",
    "catalogs.sort()\n",
    "if catalogs:\n",
    "    dbutils.widgets.combobox(\"catalog\", catalogs[0], catalogs)\n",
    "else:\n",
    "    dbutils.widgets.combobox(\"catalog\", \"\", [])"
   ]
  },
  {
   "cell_type": "code",
   "execution_count": 0,
   "metadata": {
    "application/vnd.databricks.v1+cell": {
     "cellMetadata": {
      "byteLimit": 2048000,
      "rowLimit": 10000
     },
     "inputWidgets": {},
     "nuid": "d20affff-c999-412e-a3f2-358bd69d8ae0",
     "showTitle": false,
     "tableResultSettingsMap": {},
     "title": ""
    }
   },
   "outputs": [],
   "source": [
    "catalog = dbutils.widgets.get(\"catalog\")\n",
    "schemas = [row.databaseName for row in spark.sql(f\"SHOW SCHEMAS IN {catalog}\").collect()] if catalog else []\n",
    "schemas.sort()\n",
    "if schemas:\n",
    "    dbutils.widgets.combobox(\"schema\", schemas[0], schemas)\n",
    "else:\n",
    "    dbutils.widgets.combobox(\"schema\", \"\", [])"
   ]
  },
  {
   "cell_type": "code",
   "execution_count": 0,
   "metadata": {
    "application/vnd.databricks.v1+cell": {
     "cellMetadata": {
      "byteLimit": 2048000,
      "rowLimit": 10000
     },
     "inputWidgets": {},
     "nuid": "3385677e-489c-4658-a321-f66ac787fb78",
     "showTitle": false,
     "tableResultSettingsMap": {},
     "title": ""
    }
   },
   "outputs": [],
   "source": [
    "dbutils.widgets.dropdown(\"sure\", \"No\", ['Yes', 'No'], 'Are you sure?')"
   ]
  },
  {
   "cell_type": "code",
   "execution_count": 0,
   "metadata": {
    "application/vnd.databricks.v1+cell": {
     "cellMetadata": {
      "byteLimit": 2048000,
      "rowLimit": 10000
     },
     "inputWidgets": {},
     "nuid": "4eee6015-713a-4d05-a77a-6c651f1b4a0b",
     "showTitle": false,
     "tableResultSettingsMap": {},
     "title": ""
    }
   },
   "outputs": [],
   "source": [
    "catalog = dbutils.widgets.get(\"catalog\")\n",
    "schema = dbutils.widgets.get(\"schema\")"
   ]
  },
  {
   "cell_type": "code",
   "execution_count": 0,
   "metadata": {
    "application/vnd.databricks.v1+cell": {
     "cellMetadata": {
      "byteLimit": 2048000,
      "rowLimit": 10000
     },
     "inputWidgets": {},
     "nuid": "e77d6605-84b7-4763-8fd6-367969bf1776",
     "showTitle": false,
     "tableResultSettingsMap": {},
     "title": ""
    }
   },
   "outputs": [],
   "source": [
    "def drop_history_tables(spark, catalog, schema):\n",
    "    tables = spark.sql(f\"SHOW TABLES IN {catalog}.{schema}\").filter(\"isTemporary = false\")\n",
    "    table_names = [row.tableName for row in tables.collect()]\n",
    "\n",
    "    for name in table_names:\n",
    "        print(f\"DROP TABLE IF EXISTS {catalog}.{schema}.{name}\")\n",
    "\n",
    "if dbutils.widgets.get(\"sure\") == 'Yes':\n",
    "    drop_history_tables(spark, catalog, schema)"
   ]
  }
 ],
 "metadata": {
  "application/vnd.databricks.v1+notebook": {
   "computePreferences": null,
   "dashboards": [],
   "environmentMetadata": {
    "base_environment": "",
    "environment_version": "3"
   },
   "inputWidgetPreferences": null,
   "language": "python",
   "notebookMetadata": {
    "pythonIndentUnit": 4
   },
   "notebookName": "drop_schema_tables",
   "widgets": {
    "catalog": {
     "currentValue": "edsm",
     "nuid": "fea7a88b-b0ec-46a9-8ebe-969175b1eb89",
     "typedWidgetInfo": {
      "autoCreated": false,
      "defaultValue": "edsm",
      "label": null,
      "name": "catalog",
      "options": {
       "widgetDisplayType": "Dropdown",
       "choices": [
        "edsm",
        "samples",
        "system"
       ],
       "fixedDomain": false,
       "multiselect": false
      },
      "parameterDataType": "String"
     },
     "widgetInfo": {
      "widgetType": "combobox",
      "defaultValue": "edsm",
      "label": null,
      "name": "catalog",
      "options": {
       "widgetType": "dropdown",
       "autoCreated": false,
       "choices": [
        "edsm",
        "samples",
        "system"
       ]
      }
     }
    },
    "schema": {
     "currentValue": "gold",
     "nuid": "490cee32-ec15-4f67-8f9c-76060e23cf59",
     "typedWidgetInfo": {
      "autoCreated": false,
      "defaultValue": "bronze",
      "label": null,
      "name": "schema",
      "options": {
       "widgetDisplayType": "Dropdown",
       "choices": [
        "bronze",
        "gold",
        "history",
        "information_schema",
        "silver",
        "silver_samples"
       ],
       "fixedDomain": false,
       "multiselect": false
      },
      "parameterDataType": "String"
     },
     "widgetInfo": {
      "widgetType": "combobox",
      "defaultValue": "bronze",
      "label": null,
      "name": "schema",
      "options": {
       "widgetType": "dropdown",
       "autoCreated": false,
       "choices": [
        "bronze",
        "gold",
        "history",
        "information_schema",
        "silver",
        "silver_samples"
       ]
      }
     }
    },
    "sure": {
     "currentValue": "Yes",
     "nuid": "7f30e5dc-cd49-491d-b310-dcc60fb3e6f3",
     "typedWidgetInfo": {
      "autoCreated": false,
      "defaultValue": "No",
      "label": "Are you sure?",
      "name": "sure",
      "options": {
       "widgetDisplayType": "Dropdown",
       "choices": [
        "Yes",
        "No"
       ],
       "fixedDomain": true,
       "multiselect": false
      },
      "parameterDataType": "String"
     },
     "widgetInfo": {
      "widgetType": "dropdown",
      "defaultValue": "No",
      "label": "Are you sure?",
      "name": "sure",
      "options": {
       "widgetType": "dropdown",
       "autoCreated": false,
       "choices": [
        "Yes",
        "No"
       ]
      }
     }
    }
   }
  },
  "language_info": {
   "name": "python"
  }
 },
 "nbformat": 4,
 "nbformat_minor": 0
}
