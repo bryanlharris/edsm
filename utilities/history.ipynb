{
 "cells": [
  {
   "cell_type": "code",
   "execution_count": null,
   "metadata": {},
   "outputs": [],
   "source": [
    "from glob import glob\n",
    "from pathlib import Path\n",
    "\n",
    "# Discover available tables from layer_01_bronze\n",
    "paths = glob('../layer_01_bronze/*.json')\n",
    "table_map = {Path(p).stem: p for p in paths}\n",
    "tables = sorted(table_map.keys())\n",
    "\n",
    "dbutils.widgets.combobox('table', tables[0] if tables else '', tables)"
   ]
  },
  {
   "cell_type": "code",
   "execution_count": null,
   "metadata": {},
   "outputs": [],
   "source": [
    "import json\n",
    "\n",
    "table_name = dbutils.widgets.get('table')\n",
    "settings_path = table_map[table_name]\n",
    "with open(settings_path) as f:\n",
    "    job_settings = json.load(f)\n",
    "\n",
    "full_table_name = job_settings['dst_table_name']\n",
    "history_schema = job_settings.get('history_schema')\n",
    "catalog = full_table_name.split('.')[0]"
   ]
  },
  {
   "cell_type": "code",
   "execution_count": null,
   "metadata": {},
   "outputs": [],
   "source": [
    "from functions.history import build_and_merge_file_history\n",
    "from functions.utility import schema_exists\n",
    "\n",
    "settings_message = '\n\nDictionary dynamically generated from JSON file:\n\n'\n",
    "settings_message += json.dumps({'full_table_name': full_table_name, 'history_schema': history_schema}, indent=4)\n",
    "print(settings_message)\n",
    "\n",
    "if history_schema is None:\n",
    "    print('Skipping history build: no history_schema provided')\n",
    "elif schema_exists(catalog, history_schema, spark):\n",
    "    build_and_merge_file_history(full_table_name, history_schema, spark)\n",
    "else:\n",
    "    print(f'Skipping history build: schema {catalog}.{history_schema} not found')"
   ]
  }
 ],
 "metadata": {
  "kernelspec": {
   "display_name": "python3",
   "language": "python",
   "name": "python3"
  },
  "language_info": {
   "name": "python",
   "version": "3.10"
  }
 },
 "nbformat": 4,
 "nbformat_minor": 2
}
