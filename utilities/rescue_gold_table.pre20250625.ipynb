{
 "cells": [
  {
   "cell_type": "code",
   "execution_count": 0,
   "metadata": {
    "application/vnd.databricks.v1+cell": {
     "cellMetadata": {
      "byteLimit": 2048000,
      "rowLimit": 10000
     },
     "inputWidgets": {},
     "nuid": "6ba5ce0a-4e77-498a-82ce-255b1f315d6d",
     "showTitle": false,
     "tableResultSettingsMap": {},
     "title": ""
    }
   },
   "outputs": [],
   "source": [
    "import json\n",
    "from pathlib import Path\n",
    "from layer_03_gold import edsm_gold_transform, edsm_gold_write\n",
    "from functions import create_table_if_not_exists\n",
    "from pyspark.sql.functions import col\n",
    "\n",
    "settings = json.loads(Path(\"../layer_03_gold/systemsPopulated.json\").read_text())\n",
    "\n",
    "\n",
    "# settings[\"src_table_name\"] = \"edsm.silver.powerplay_rescue\"\n",
    "# settings[\"dst_table_name\"] = \"edsm.gold.powerplay_rescue\"\n",
    "\n",
    "history = spark.sql(f\"DESCRIBE HISTORY {settings['src_table_name']}\")\n",
    "max_version = history.agg({\"version\":\"max\"}).first()[0]\n",
    "print(f\"Max version: {max_version}\")\n",
    "\n",
    "spark.sql(f\"DROP TABLE IF EXISTS {settings['dst_table_name']}\")\n",
    "dbutils.fs.rm(settings[\"writeStreamOptions\"][\"checkpointLocation\"], recurse=True)\n",
    "\n",
    "for version in range(0, max_version+1):\n",
    "    if version == 0:\n",
    "        df = spark.read.format(\"delta\").option(\"versionAsOf\", version).table(settings[\"src_table_name\"])\n",
    "        df = edsm_gold_transform(spark, settings, df)\n",
    "        create_table_if_not_exists(spark, df, settings[\"dst_table_name\"])\n",
    "        print(f\"Current version: {version}\")\n",
    "        continue\n",
    "\n",
    "    df = spark.read.format(\"delta\").option(\"versionAsOf\", version).table(settings[\"src_table_name\"])\n",
    "    df = edsm_gold_transform(spark, settings, df)\n",
    "    edsm_gold_write(spark, settings, df)\n",
    "    print(f\"Current version: {version}\")"
   ]
  }
 ],
 "metadata": {
  "application/vnd.databricks.v1+notebook": {
   "computePreferences": null,
   "dashboards": [],
   "environmentMetadata": {
    "base_environment": "",
    "environment_version": "2"
   },
   "inputWidgetPreferences": null,
   "language": "python",
   "notebookMetadata": {
    "mostRecentlyExecutedCommandWithImplicitDF": {
     "commandId": 7214354470807638,
     "dataframes": [
      "_sqldf"
     ]
    },
    "pythonIndentUnit": 4
   },
   "notebookName": "rescue_gold_table.pre20250625",
   "widgets": {}
  },
  "language_info": {
   "name": "python"
  }
 },
 "nbformat": 4,
 "nbformat_minor": 0
}
