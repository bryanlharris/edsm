{
 "cells": [
  {
   "cell_type": "code",
   "execution_count": 0,
   "metadata": {
    "application/vnd.databricks.v1+cell": {
     "cellMetadata": {
      "byteLimit": 2048000,
      "rowLimit": 10000
     },
     "inputWidgets": {},
     "nuid": "ef43a713-3da2-479f-a96d-30f42a45a568",
     "showTitle": false,
     "tableResultSettingsMap": {},
     "title": ""
    }
   },
   "outputs": [],
   "source": [
    "import json\n",
    "from glob import glob\n",
    "\n",
    "paths = glob(\"../layer_03_gold/*.json\")\n",
    "tables = [path.split(\"/\")[-1].split(\".\")[0] for path in paths] + [\"None Selected\"]\n",
    "\n",
    "dbutils.widgets.dropdown(name=\"table\", defaultValue=\"None Selected\", choices=tables)"
   ]
  },
  {
   "cell_type": "code",
   "execution_count": 0,
   "metadata": {
    "application/vnd.databricks.v1+cell": {
     "cellMetadata": {
      "byteLimit": 2048000,
      "rowLimit": 10000
     },
     "inputWidgets": {},
     "nuid": "447b0472-fd87-487a-8aef-b5b0123c67a0",
     "showTitle": false,
     "tableResultSettingsMap": {},
     "title": ""
    }
   },
   "outputs": [],
   "source": [
    "table_name = dbutils.widgets.get(name=\"table\")"
   ]
  },
  {
   "cell_type": "code",
   "execution_count": 0,
   "metadata": {
    "application/vnd.databricks.v1+cell": {
     "cellMetadata": {
      "byteLimit": 2048000,
      "rowLimit": 10000
     },
     "inputWidgets": {},
     "nuid": "17237d15-f4d1-4228-8874-2675c7ecc187",
     "showTitle": false,
     "tableResultSettingsMap": {},
     "title": ""
    }
   },
   "outputs": [],
   "source": [
    "from functions.rescue import rescue_gold_table\n",
    "\n",
    "print(f\"Rescuing table: {table_name}\")\n",
    "rescue_gold_table(spark, table_name)"
   ]
  }
 ],
 "metadata": {
  "application/vnd.databricks.v1+notebook": {
   "computePreferences": null,
   "dashboards": [],
   "environmentMetadata": {
    "base_environment": "",
    "environment_version": "2"
   },
   "inputWidgetPreferences": null,
   "language": "python",
   "notebookMetadata": {
    "pythonIndentUnit": 4,
    "widgetLayout": [
     {
      "breakBefore": false,
      "name": "table",
      "width": 309
     }
    ]
   },
   "notebookName": "rescue_gold_table",
   "widgets": {
    "table": {
     "currentValue": "powerPlay",
     "nuid": "564f6101-c221-40d4-8147-44d2d7363984",
     "typedWidgetInfo": {
      "autoCreated": false,
      "defaultValue": "None Selected",
      "label": null,
      "name": "table",
      "options": {
       "widgetDisplayType": "Dropdown",
       "choices": [
        "powerPlay",
        "systemsPopulated",
        "None Selected"
       ],
       "fixedDomain": true,
       "multiselect": false
      },
      "parameterDataType": "String"
     },
     "widgetInfo": {
      "widgetType": "dropdown",
      "defaultValue": "None Selected",
      "label": null,
      "name": "table",
      "options": {
       "widgetType": "dropdown",
       "autoCreated": false,
       "choices": [
        "powerPlay",
        "systemsPopulated",
        "None Selected"
       ]
      }
     }
    }
   }
  },
  "language_info": {
   "name": "python"
  }
 },
 "nbformat": 4,
 "nbformat_minor": 0
}
