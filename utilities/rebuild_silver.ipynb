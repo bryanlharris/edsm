{
 "cells": [
  {
   "cell_type": "code",
   "execution_count": 0,
   "metadata": {
    "application/vnd.databricks.v1+cell": {
     "cellMetadata": {
      "byteLimit": 2048000,
      "rowLimit": 10000
     },
     "inputWidgets": {},
     "nuid": "f6130165-2d9d-4f8d-84c0-8ff953db9859",
     "showTitle": false,
     "tableResultSettingsMap": {},
     "title": ""
    }
   },
   "outputs": [],
   "source": [
    "dbutils.widgets.removeAll()\n",
    "dbutils.widgets.text(\"table\", \"powerPlay\")\n",
    "dbutils.widgets.text(\"dst_table_name\", \"powerPlay_rebuild\")\n",
    "dbutils.widgets.text(\"checkpoint_suffix\", \"_rebuild\")"
   ]
  },
  {
   "cell_type": "code",
   "execution_count": 0,
   "metadata": {
    "application/vnd.databricks.v1+cell": {
     "cellMetadata": {
      "byteLimit": 2048000,
      "rowLimit": 10000
     },
     "inputWidgets": {},
     "nuid": "eb7e4a85-e723-4860-af50-934425f0a5f5",
     "showTitle": false,
     "tableResultSettingsMap": {},
     "title": ""
    }
   },
   "outputs": [],
   "source": [
    "# This ugly crap is needed to import modules from the parent folder\n",
    "import os\n",
    "import sys\n",
    "sys.path.append(f\"{os.getcwd()}/..\")\n",
    "\n",
    "from pathlib import Path\n",
    "import json\n",
    "from delta.tables import DeltaTable\n",
    "from pyspark.sql.functions import struct, to_json, sha2, col, current_timestamp\n",
    "from pyspark.sql.functions import to_timestamp, concat, regexp_extract, lit, date_format\n",
    "from functions import create_table_if_not_exists, rename_columns, cast_data_types\n",
    "from layer_02_silver import silver_upsert\n",
    "\n",
    "table = dbutils.widgets.get(\"table\")\n",
    "settings = json.loads(next(Path().glob(f\"../layer_02_silver/{table}.json\")).read_text())\n",
    "\n",
    "# Variables (json file)\n",
    "src_table_name          = settings.get(\"src_table_name\")\n",
    "dst_table_name          = settings.get(\"dst_table_name\")\n",
    "readStreamOptions       = settings.get(\"readStreamOptions\")\n",
    "writeStreamOptions      = settings.get(\"writeStreamOptions\")\n",
    "composite_key           = settings.get(\"composite_key\")\n",
    "business_key            = settings.get(\"business_key\")\n",
    "column_map              = settings.get(\"column_map\")\n",
    "data_type_map           = settings.get(\"data_type_map\")\n",
    "\n",
    "# Cheat Sheet for the widgets:\n",
    "# table: The table you are rebuilding.\n",
    "# dst_table_name: The new name (use same name if you want, it will overwrite it)\n",
    "# checkpoint_suffix: The stream needs a fresh checkpoint folder (or delete current one)\n",
    "dst_table_name = dbutils.widgets.get(\"dst_table_name\")\n",
    "checkpoint_suffix = dbutils.widgets.get(\"checkpoint_suffix\")\n",
    "checkpoint_location = writeStreamOptions[\"checkpointLocation\"]\n",
    "checkpoint_location_rebuild = checkpoint_location.rstrip(\"/\") + checkpoint_suffix\n",
    "writeStreamOptions[\"checkpointLocation\"] = checkpoint_location_rebuild\n",
    "\n",
    "\n",
    "spark.sql(f\"TRUNCATE TABLE {dst_table_name}\")\n",
    "history = spark.sql(f\"DESCRIBE HISTORY {src_table_name}\").select(\"version\", \"operation\").orderBy(\"version\").collect()\n",
    "\n",
    "# Find SET TBLPROPERTIES (CDF enabled)\n",
    "cdf_enable_index = None\n",
    "for i, row in enumerate(history):\n",
    "    if row['operation'] == \"SET TBLPROPERTIES\":\n",
    "        cdf_enable_index = i\n",
    "\n",
    "if cdf_enable_index is None:\n",
    "    raise Exception(\"CDF not enabled on this table\")\n",
    "\n",
    "# Only process ranges where there was no schema change operation between i and i+1\n",
    "schema_change_ops = {\"ADD COLUMNS\", \"DROP COLUMNS\", \"ALTER COLUMN\"}\n",
    "for i in range(cdf_enable_index, len(history) - 1):\n",
    "    # If a schema change happened at i+1, skip the range\n",
    "    if history[i+1]['operation'] in schema_change_ops:\n",
    "        continue\n",
    "    start_version = history[i]['version']\n",
    "    end_version = history[i+1]['version']\n",
    "    (\n",
    "        spark.readStream\n",
    "        .options(**readStreamOptions)\n",
    "        .option(\"readChangeData\", \"true\")\n",
    "        .option(\"startingVersion\", start_version)\n",
    "        .option(\"endingVersion\", end_version)\n",
    "        .table(src_table_name)\n",
    "        .writeStream\n",
    "        .queryName(dst_table_name)\n",
    "        .options(**writeStreamOptions)\n",
    "        .trigger(availableNow=True)\n",
    "        .foreachBatch(silver_upsert(spark, settings))\n",
    "        .outputMode(\"update\")\n",
    "        .start()\n",
    "    )"
   ]
  },
  {
   "cell_type": "code",
   "execution_count": 0,
   "metadata": {
    "application/vnd.databricks.v1+cell": {
     "cellMetadata": {
      "byteLimit": 2048000,
      "rowLimit": 10000
     },
     "inputWidgets": {},
     "nuid": "770f80b1-a42f-48db-a521-2e5583730d29",
     "showTitle": false,
     "tableResultSettingsMap": {},
     "title": ""
    }
   },
   "outputs": [],
   "source": [
    "df1 = spark.table(\"edsm.silver.powerplay_test\")\n",
    "df2 = spark.table(\"edsm.silver.powerplay\")\n",
    "\n",
    "cols = [c for c in df1.columns if c != \"ingest_time\"]\n",
    "diff = df1.select(cols).subtract(df2.select(cols)).union(df2.select(cols).subtract(df1.select(cols)))\n",
    "\n",
    "if diff.count() == 0:\n",
    "    print(\"Tables are the same\")\n",
    "else:\n",
    "    print(\"Tables are different\")\n",
    "\n",
    "    only_in_df1 = df1.select(cols).subtract(df2.select(cols))\n",
    "    only_in_df2 = df2.select(cols).subtract(df1.select(cols))\n",
    "\n",
    "    print(\"Only in df1:\")\n",
    "    only_in_df1.show(1, vertical=True)\n",
    "\n",
    "    print(\"Only in df2:\")\n",
    "    only_in_df2.show(1, vertical=True)\n"
   ]
  }
 ],
 "metadata": {
  "application/vnd.databricks.v1+notebook": {
   "computePreferences": null,
   "dashboards": [],
   "environmentMetadata": {
    "base_environment": "",
    "environment_version": "2"
   },
   "inputWidgetPreferences": {
    "autoRunOnWidgetChange": "no-auto-run"
   },
   "language": "python",
   "notebookMetadata": {
    "mostRecentlyExecutedCommandWithImplicitDF": {
     "commandId": 5918813656005667,
     "dataframes": [
      "_sqldf"
     ]
    },
    "pythonIndentUnit": 4,
    "widgetLayout": [
     {
      "breakBefore": false,
      "name": "table",
      "width": 185
     },
     {
      "breakBefore": false,
      "name": "dst_table_name",
      "width": 185
     },
     {
      "breakBefore": false,
      "name": "checkpoint_suffix",
      "width": 185
     }
    ]
   },
   "notebookName": "rebuild_silver",
   "widgets": {
    "checkpoint_suffix": {
     "currentValue": "_rebuild",
     "nuid": "c14cdd43-28ce-4544-a7b8-0dc66b68bd24",
     "typedWidgetInfo": {
      "autoCreated": false,
      "defaultValue": "_rebuild",
      "label": null,
      "name": "checkpoint_suffix",
      "options": {
       "widgetDisplayType": "Text",
       "validationRegex": null
      },
      "parameterDataType": "String"
     },
     "widgetInfo": {
      "widgetType": "text",
      "defaultValue": "_rebuild",
      "label": null,
      "name": "checkpoint_suffix",
      "options": {
       "widgetType": "text",
       "autoCreated": null,
       "validationRegex": null
      }
     }
    },
    "dst_table_name": {
     "currentValue": "powerPlay_rebuild",
     "nuid": "ef83083b-b24c-4c45-91b4-9aebe2304d84",
     "typedWidgetInfo": {
      "autoCreated": false,
      "defaultValue": "powerPlay_rebuild",
      "label": null,
      "name": "dst_table_name",
      "options": {
       "widgetDisplayType": "Text",
       "validationRegex": null
      },
      "parameterDataType": "String"
     },
     "widgetInfo": {
      "widgetType": "text",
      "defaultValue": "powerPlay_rebuild",
      "label": null,
      "name": "dst_table_name",
      "options": {
       "widgetType": "text",
       "autoCreated": false,
       "validationRegex": null
      }
     }
    },
    "table": {
     "currentValue": "powerPlay",
     "nuid": "656138b1-ec4d-48b1-ab3c-44352e92dc87",
     "typedWidgetInfo": {
      "autoCreated": false,
      "defaultValue": "powerPlay",
      "label": null,
      "name": "table",
      "options": {
       "widgetDisplayType": "Text",
       "validationRegex": null
      },
      "parameterDataType": "String"
     },
     "widgetInfo": {
      "widgetType": "text",
      "defaultValue": "powerPlay",
      "label": null,
      "name": "table",
      "options": {
       "widgetType": "text",
       "autoCreated": null,
       "validationRegex": null
      }
     }
    }
   }
  },
  "language_info": {
   "name": "python"
  }
 },
 "nbformat": 4,
 "nbformat_minor": 0
}
