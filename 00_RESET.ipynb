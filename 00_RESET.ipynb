{
 "cells": [
  {
   "cell_type": "code",
   "execution_count": 0,
   "metadata": {
    "application/vnd.databricks.v1+cell": {
     "cellMetadata": {
      "byteLimit": 2048000,
      "implicitDf": true,
      "rowLimit": 10000
     },
     "inputWidgets": {},
     "nuid": "0fff9897-62e3-482b-9e25-8e24fbbbb421",
     "showTitle": false,
     "tableResultSettingsMap": {},
     "title": ""
    }
   },
   "outputs": [],
   "source": [
    "catalog = \"edsm\"\n",
    "schemas = spark.sql(f\"SHOW SCHEMAS IN {catalog}\").collect()\n",
    "for record in schemas:\n",
    "    schema = record.databaseName\n",
    "    if schema in [ \"default\", \"information_schema\", \"pg_catalog\" ]:\n",
    "        continue\n",
    "    tables = spark.sql(f\"SHOW TABLES IN {catalog}.{schema}\").collect()\n",
    "    for tbl in tables:\n",
    "        if tbl.isTemporary:\n",
    "            continue\n",
    "        table_name = tbl.tableName\n",
    "        desc = spark.sql(f\"DESCRIBE EXTENDED {catalog}.{schema}.{table_name}\").collect()\n",
    "        is_view = any(\"Type\" in row.col_name and \"VIEW\" in row.data_type for row in desc)\n",
    "        if is_view:\n",
    "            continue\n",
    "        print(f\"Dropping {catalog}.{schema}.{tbl.tableName}\")\n",
    "        spark.sql(f\"DROP TABLE {catalog}.{schema}.{tbl.tableName}\")"
   ]
  },
  {
   "cell_type": "code",
   "execution_count": 0,
   "metadata": {
    "application/vnd.databricks.v1+cell": {
     "cellMetadata": {
      "byteLimit": 2048000,
      "rowLimit": 10000
     },
     "inputWidgets": {},
     "nuid": "b5745de4-f37c-4c50-bd55-af2dccb8878e",
     "showTitle": false,
     "tableResultSettingsMap": {},
     "title": ""
    }
   },
   "outputs": [],
   "source": [
    "%sh\n",
    "\n",
    "( cd /Volumes/edsm/bronze/utility && rm -rf * )\n",
    "( cd /Volumes/edsm/silver/utility && rm -rf * )\n",
    "( cd /Volumes/edsm/gold/utility   && rm -rf * )"
   ]
  }
 ],
 "metadata": {
  "application/vnd.databricks.v1+notebook": {
   "computePreferences": null,
   "dashboards": [],
   "environmentMetadata": {
    "base_environment": "",
    "environment_version": "2"
   },
   "inputWidgetPreferences": null,
   "language": "python",
   "notebookMetadata": {
    "mostRecentlyExecutedCommandWithImplicitDF": {
     "commandId": 5335672959167419,
     "dataframes": [
      "_sqldf"
     ]
    },
    "pythonIndentUnit": 4
   },
   "notebookName": "00_RESET",
   "widgets": {}
  },
  "language_info": {
   "name": "python"
  }
 },
 "nbformat": 4,
 "nbformat_minor": 0
}
