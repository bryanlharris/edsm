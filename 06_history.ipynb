{
 "cells": [
  {
   "cell_type": "code",
   "execution_count": 0,
   "metadata": {
    "application/vnd.databricks.v1+cell": {
     "cellMetadata": {
      "byteLimit": 2048000,
      "rowLimit": 10000
     },
     "inputWidgets": {},
     "nuid": "303d1039-8a6e-483b-937f-23916f7a91c0",
     "showTitle": false,
     "tableResultSettingsMap": {},
     "title": ""
    }
   },
   "outputs": [],
   "source": [
    "import json\n",
    "from functions.history import build_and_merge_file_history, transaction_history\n",
    "from functions.utility import schema_exists\n",
    "\n",
    "# Variables\n",
    "job_settings            = json.loads(dbutils.widgets.get(\"job_settings\"))\n",
    "full_table_name         = job_settings['full_table_name']\n",
    "history_schema          = job_settings.get(\"history_schema\")\n",
    "catalog                = full_table_name.split(\".\")[0]\n",
    "\n",
    "# Print job and table settings\n",
    "settings_message = f\"\\n\\nDictionary dynamically generated from 01_job_settings:\\n\\n\"\n",
    "settings_message += json.dumps(job_settings, indent=4)\n",
    "print(settings_message)\n",
    "\n",
    "if history_schema is None:\n",
    "    print(\"Skipping history build: no history_schema provided\")\n",
    "elif schema_exists(catalog, history_schema, spark):\n",
    "    build_and_merge_file_history(full_table_name, history_schema, spark)\n",
    "    transaction_history(full_table_name, history_schema, spark)\n",
    "else:\n",
    "    print(f\"Skipping history build: schema {catalog}.{history_schema} not found\")\n"
   ]
  }
 ],
 "metadata": {
  "application/vnd.databricks.v1+notebook": {
   "computePreferences": null,
   "dashboards": [],
   "environmentMetadata": {
    "base_environment": "",
    "environment_version": "2"
   },
   "inputWidgetPreferences": null,
   "language": "python",
   "notebookMetadata": {
    "pythonIndentUnit": 4
   },
   "notebookName": "06_history",
   "widgets": {}
  },
  "language_info": {
   "name": "python"
  }
 },
 "nbformat": 4,
 "nbformat_minor": 0
}
