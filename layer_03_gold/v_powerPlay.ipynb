{
 "cells": [
  {
   "cell_type": "code",
   "execution_count": 0,
   "metadata": {
    "application/vnd.databricks.v1+cell": {
     "cellMetadata": {
      "byteLimit": 2048000,
      "rowLimit": 10000
     },
     "inputWidgets": {},
     "nuid": "48578e7f-758c-4608-b869-91506bf71fdd",
     "showTitle": false,
     "tableResultSettingsMap": {},
     "title": ""
    }
   },
   "outputs": [],
   "source": [
    "use edsm.gold;\n",
    "\n",
    "create\n",
    "or replace view v_powerPlay as\n",
    "select\n",
    "  valid_from,\n",
    "  case\n",
    "    when valid_to is null then to_date(\"2099-12-31\", \"yyyy-MM-dd\")\n",
    "    else valid_to\n",
    "  end as valid_to,\n",
    "  *\n",
    "except\n",
    "  (valid_from, valid_to)\n",
    "from\n",
    "  (\n",
    "    select\n",
    "      to_date(valid_from) as valid_from,\n",
    "      to_date(valid_to) as valid_to,\n",
    "      *\n",
    "    except\n",
    "      (valid_from, valid_to)\n",
    "    from\n",
    "      (\n",
    "        select\n",
    "          created_on as valid_from,\n",
    "          case\n",
    "            when deleted_on is null then lead(created_on) OVER (PARTITION BY name, id, id64, power ORDER BY created_on)\n",
    "            when deleted_on is not null then to_date(deleted_on)\n",
    "            else null\n",
    "          end as valid_to,\n",
    "          current_flag,\n",
    "          *\n",
    "        except\n",
    "          (created_on, current_flag)\n",
    "        from\n",
    "          powerplay\n",
    "      )\n",
    "  );"
   ]
  }
 ],
 "metadata": {
  "application/vnd.databricks.v1+notebook": {
   "computePreferences": null,
   "dashboards": [],
   "environmentMetadata": {
    "base_environment": "",
    "environment_version": "2"
   },
   "inputWidgetPreferences": null,
   "language": "sql",
   "notebookMetadata": {
    "pythonIndentUnit": 4
   },
   "notebookName": "v_powerPlay",
   "widgets": {}
  },
  "language_info": {
   "name": "sql"
  }
 },
 "nbformat": 4,
 "nbformat_minor": 0
}
