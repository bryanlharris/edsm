{
 "cells": [
  {
   "cell_type": "code",
   "execution_count": 0,
   "metadata": {
    "application/vnd.databricks.v1+cell": {
     "cellMetadata": {
      "byteLimit": 2048000,
      "rowLimit": 10000
     },
     "inputWidgets": {},
     "nuid": "c7170dfa-550e-4c70-a031-658e6301cf2c",
     "showTitle": false,
     "tableResultSettingsMap": {},
     "title": ""
    }
   },
   "outputs": [],
   "source": [
    "dbutils.widgets.text(\"name\",\"\",\"name\")\n",
    "name = dbutils.widgets.get(\"name\")\n",
    "spark.sql(f\"\"\"\n",
    "CREATE OR REPLACE TEMP VIEW file_history AS\n",
    "SELECT\n",
    "    h.table_name,\n",
    "    h.version,\n",
    "    h.timestamp,\n",
    "    h.operation,\n",
    "    h.userName,\n",
    "    f.file_path AS file\n",
    "FROM edsm.silver.systemspopulated_transaction_history h\n",
    "JOIN (\n",
    "    SELECT\n",
    "        primary_key,\n",
    "        EXPLODE(file_path) AS file_path\n",
    "    FROM edsm.silver.systemspopulated_file_version_history\n",
    ") f\n",
    "  ON h.primary_key = f.primary_key;\n",
    "\"\"\")\n",
    "spark.sql(f\"\"\"\n",
    "    SELECT\n",
    "        fh.*\n",
    "    FROM edsm.silver.systemspopulated s\n",
    "    JOIN file_history fh\n",
    "    ON s.file_path = fh.file\n",
    "    WHERE s.name = '{name}'\n",
    "    ORDER BY fh.timestamp\n",
    "\"\"\").display()"
   ]
  }
 ],
 "metadata": {
  "application/vnd.databricks.v1+notebook": {
   "computePreferences": null,
   "dashboards": [
    {
     "elements": [],
     "globalVars": {},
     "guid": "",
     "layoutOption": {
      "grid": true,
      "stack": true
     },
     "nuid": "bebbd526-0fc7-4af4-815f-7855df0deb7c",
     "origId": 5335672959167413,
     "title": "Systems Populated",
     "version": "DashboardViewV1",
     "width": 1024
    }
   ],
   "environmentMetadata": {
    "base_environment": "",
    "environment_version": "2"
   },
   "inputWidgetPreferences": {
    "autoRunOnWidgetChange": "no-auto-run"
   },
   "language": "python",
   "notebookMetadata": {
    "pythonIndentUnit": 4
   },
   "notebookName": "99_WIDGET001",
   "widgets": {
    "name": {
     "currentValue": "Sol",
     "nuid": "dc0b2897-3068-46b3-b4a9-1cc303731f41",
     "typedWidgetInfo": {
      "autoCreated": false,
      "defaultValue": "",
      "label": "name",
      "name": "name",
      "options": {
       "widgetDisplayType": "Text",
       "validationRegex": null
      },
      "parameterDataType": "String"
     },
     "widgetInfo": {
      "widgetType": "text",
      "defaultValue": "",
      "label": "name",
      "name": "name",
      "options": {
       "widgetType": "text",
       "autoCreated": null,
       "validationRegex": null
      }
     }
    }
   }
  },
  "language_info": {
   "name": "python"
  }
 },
 "nbformat": 4,
 "nbformat_minor": 0
}
