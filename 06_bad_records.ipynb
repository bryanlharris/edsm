{
 "cells": [
  {
   "cell_type": "code",
   "execution_count": 0,
   "metadata": {
    "application/vnd.databricks.v1+cell": {
     "cellMetadata": {},
     "inputWidgets": {},
     "nuid": "c9d96225-355a-4135-8710-bab1da4316a5",
     "showTitle": false,
     "tableResultSettingsMap": {},
     "title": ""
    }
   },
   "outputs": [],
   "source": [
    "import json\n",
    "from pathlib import Path\n",
    "\n",
    "# Variables\n",
    "job_settings                = json.loads(dbutils.widgets.get(\"job_settings\"))\n",
    "table                       = job_settings['table']\n",
    "settings                    = json.loads(next(Path().glob(f\"./layer_*_bronze/{table}.json\")).read_text())\n",
    "dst_table_name              = settings.get(\"dst_table_name\")\n",
    "badRecordsPath              = settings.get(\"readStreamOptions\", {}).get(\"badRecordsPath\")\n",
    "\n",
    "try:\n",
    "    dbutils.fs.ls(badRecordsPath)\n",
    "    df = spark.read.json(badRecordsPath)\n",
    "    df.write.mode(\"overwrite\").format(\"delta\").saveAsTable(f\"{dst_table_name}_bad_records\")\n",
    "except:\n",
    "    spark.sql(f\"DROP TABLE IF EXISTS {dst_table_name}_bad_records\")\n",
    "\n",
    "if spark.catalog.tableExists(f\"{dst_table_name}_bad_records\"):\n",
    "    raise Exception(f\"Bad records table exists: {dst_table_name}_bad_records\")"
   ]
  }
 ],
 "metadata": {
  "application/vnd.databricks.v1+notebook": {
   "computePreferences": null,
   "dashboards": [],
   "environmentMetadata": {
    "base_environment": "",
    "environment_version": "2"
   },
   "inputWidgetPreferences": null,
   "language": "python",
   "notebookMetadata": {
    "pythonIndentUnit": 4
   },
   "notebookName": "06_bad_records",
   "widgets": {}
  },
  "language_info": {
   "name": "python"
  }
 },
 "nbformat": 4,
 "nbformat_minor": 0
}
