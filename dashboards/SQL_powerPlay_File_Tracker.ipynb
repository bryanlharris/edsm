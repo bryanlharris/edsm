{
 "cells": [
  {
   "cell_type": "code",
   "execution_count": 0,
   "metadata": {
    "application/vnd.databricks.v1+cell": {
     "cellMetadata": {
      "byteLimit": 2048000,
      "rowLimit": 10000
     },
     "collapsed": true,
     "inputWidgets": {},
     "nuid": "38917c62-bbc5-4582-b5d2-eac5a785955d",
     "showTitle": false,
     "tableResultSettingsMap": {},
     "title": ""
    }
   },
   "outputs": [],
   "source": [
    "WITH file_history AS (\n",
    "    SELECT\n",
    "        h.table_name,\n",
    "        h.version,\n",
    "        h.timestamp,\n",
    "        h.operation,\n",
    "        f.file_path AS file\n",
    "    FROM edsm.silver.powerPlay_transaction_history h\n",
    "    JOIN (\n",
    "        SELECT\n",
    "            primary_key,\n",
    "            EXPLODE(file_path) AS file_path\n",
    "        FROM edsm.silver.powerPlay_file_version_history\n",
    "    ) f\n",
    "      ON h.primary_key = f.primary_key\n",
    ")\n",
    "SELECT\n",
    "    CAST(p.valid_from AS DATE) AS valid_from,\n",
    "    CAST(p.valid_to AS DATE) AS valid_to,\n",
    "    p.name,\n",
    "    p.id,\n",
    "    p.power,\n",
    "    p.allegiance,\n",
    "    p.government,\n",
    "    p.powerState,\n",
    "    p.state,\n",
    "    p.derived_ingest_time,\n",
    "    p.source_metadata.file_path,\n",
    "    fh.table_name,\n",
    "    fh.version,\n",
    "    fh.timestamp,\n",
    "    fh.operation\n",
    "FROM edsm.silver.powerPlay p\n",
    "JOIN file_history fh\n",
    "  ON p.source_metadata.file_path = fh.file\n",
    "WHERE (\n",
    "    (TRY_CAST(NULLIF(:`id`, '') AS BIGINT) IS NULL OR p.id = TRY_CAST(NULLIF(:`id`, '') AS BIGINT))\n",
    "    AND (NULLIF(:`name`, '') IS NULL OR p.name = NULLIF(:`name`, ''))\n",
    "    AND (NULLIF(:`power`, '') IS NULL OR p.power = NULLIF(:`power`, ''))\n",
    "    AND (TRY_CAST(:`valid_from` AS DATE) IS NULL OR DATE(p.valid_from) >= TRY_CAST(:`valid_from` AS DATE))\n",
    "    AND (TRY_CAST(:`valid_to` AS DATE) IS NULL OR DATE(p.valid_to) <= TRY_CAST(:`valid_to` AS DATE))\n",
    ")\n",
    "ORDER BY fh.timestamp;"
   ]
  },
  {
   "cell_type": "code",
   "execution_count": 0,
   "metadata": {
    "application/vnd.databricks.v1+cell": {
     "cellMetadata": {
      "byteLimit": 2048000,
      "rowLimit": 10000
     },
     "inputWidgets": {},
     "nuid": "d124e080-cb1e-472b-9777-9e0f95b6d979",
     "showTitle": false,
     "tableResultSettingsMap": {},
     "title": ""
    }
   },
   "outputs": [],
   "source": [
    "WITH silver_versions AS (\n",
    "    SELECT\n",
    "        p.valid_from,\n",
    "        p.valid_to,\n",
    "        p.name,\n",
    "        p.id,\n",
    "        p.power,\n",
    "        p.allegiance,\n",
    "        p.government,\n",
    "        p.powerState,\n",
    "        p.state\n",
    "    FROM edsm.silver.powerPlay p\n",
    "    WHERE (\n",
    "        (TRY_CAST(NULLIF(:`id`, '') AS BIGINT) IS NULL OR p.id = TRY_CAST(NULLIF(:`id`, '') AS BIGINT))\n",
    "        AND (NULLIF(:`name`, '') IS NULL OR p.name = NULLIF(:`name`, ''))\n",
    "        AND (NULLIF(:`power`, '') IS NULL OR p.power = NULLIF(:`power`, ''))\n",
    "        AND (TRY_CAST(:`valid_from` AS DATE) IS NULL OR DATE(p.valid_from) >= TRY_CAST(:`valid_from` AS DATE))\n",
    "        AND (TRY_CAST(:`valid_to` AS DATE) IS NULL OR DATE(p.valid_to) <= TRY_CAST(:`valid_to` AS DATE))\n",
    "        AND (NULLIF(:`allegiance`, '') IS NULL OR p.allegiance = NULLIF(:`allegiance`, ''))\n",
    "        AND (NULLIF(:`government`, '') IS NULL OR p.government = NULLIF(:`government`, ''))\n",
    "        AND (NULLIF(:`powerState`, '') IS NULL OR p.powerState = NULLIF(:`powerState`, ''))\n",
    "        AND (NULLIF(:`state`, '') IS NULL OR p.state = NULLIF(:`state`, ''))\n",
    "    )\n",
    ")\n",
    "SELECT\n",
    "    cast(s.valid_from as date) as valid_from,\n",
    "    cast(s.valid_to as date) as valid_to,\n",
    "    s.name,\n",
    "    s.power,\n",
    "    s.allegiance,\n",
    "    s.government,\n",
    "    s.powerState,\n",
    "    s.state,\n",
    "    b.derived_ingest_time,\n",
    "    b.source_metadata.file_path,\n",
    "    b.source_metadata.file_modification_time,\n",
    "    b._metadata.row_index\n",
    "FROM silver_versions s\n",
    "JOIN edsm.bronze.powerPlay b\n",
    "  ON s.id = b.id\n",
    "  AND s.power = b.power\n",
    "  AND s.allegiance = b.allegiance\n",
    "  AND s.government = b.government\n",
    "  AND s.powerState = b.powerState\n",
    "  AND s.state = b.state\n",
    "WHERE b.derived_ingest_time BETWEEN s.valid_from AND s.valid_to\n",
    "ORDER BY s.valid_from, b.derived_ingest_time;"
   ]
  }
 ],
 "metadata": {
  "application/vnd.databricks.v1+notebook": {
   "computePreferences": null,
   "dashboards": [],
   "environmentMetadata": {
    "base_environment": "",
    "environment_version": "3"
   },
   "inputWidgetPreferences": null,
   "language": "sql",
   "notebookMetadata": {
    "pythonIndentUnit": 4
   },
   "notebookName": "SQL_powerPlay_File_Tracker",
   "widgets": {
    "allegiance": {
     "currentValue": "",
     "nuid": "7298c9a1-12e8-467c-97af-eb7162b1b36b",
     "typedWidgetInfo": {
      "autoCreated": true,
      "defaultValue": "",
      "label": null,
      "name": "allegiance",
      "options": {
       "widgetDisplayType": "Text",
       "validationRegex": null
      },
      "parameterDataType": "String"
     },
     "widgetInfo": {
      "widgetType": "text",
      "defaultValue": "",
      "label": null,
      "name": "allegiance",
      "options": {
       "widgetType": "text",
       "autoCreated": true,
       "validationRegex": null
      }
     }
    },
    "government": {
     "currentValue": "",
     "nuid": "5ad025a2-adba-4104-aa20-0f5ec0c55a88",
     "typedWidgetInfo": {
      "autoCreated": true,
      "defaultValue": "",
      "label": null,
      "name": "government",
      "options": {
       "widgetDisplayType": "Text",
       "validationRegex": null
      },
      "parameterDataType": "String"
     },
     "widgetInfo": {
      "widgetType": "text",
      "defaultValue": "",
      "label": null,
      "name": "government",
      "options": {
       "widgetType": "text",
       "autoCreated": true,
       "validationRegex": null
      }
     }
    },
    "id": {
     "currentValue": "",
     "nuid": "cb9653fb-a74b-43d8-9dad-63de84ec2dd3",
     "typedWidgetInfo": {
      "autoCreated": false,
      "defaultValue": "",
      "label": "",
      "name": "id",
      "options": {
       "widgetDisplayType": "Text",
       "validationRegex": null
      },
      "parameterDataType": "String"
     },
     "widgetInfo": {
      "widgetType": "text",
      "defaultValue": "",
      "label": "",
      "name": "id",
      "options": {
       "widgetType": "text",
       "autoCreated": false,
       "validationRegex": null
      }
     }
    },
    "name": {
     "currentValue": "Pacamundu",
     "nuid": "aedfc1b0-24e4-4feb-a824-f59258495349",
     "typedWidgetInfo": {
      "autoCreated": true,
      "defaultValue": "",
      "label": null,
      "name": "name",
      "options": {
       "widgetDisplayType": "Text",
       "validationRegex": null
      },
      "parameterDataType": "String"
     },
     "widgetInfo": {
      "widgetType": "text",
      "defaultValue": "",
      "label": null,
      "name": "name",
      "options": {
       "widgetType": "text",
       "autoCreated": true,
       "validationRegex": null
      }
     }
    },
    "power": {
     "currentValue": "",
     "nuid": "9d68b1ae-4153-40a3-80c2-0f55042988d3",
     "typedWidgetInfo": {
      "autoCreated": true,
      "defaultValue": "",
      "label": null,
      "name": "power",
      "options": {
       "widgetDisplayType": "Text",
       "validationRegex": null
      },
      "parameterDataType": "String"
     },
     "widgetInfo": {
      "widgetType": "text",
      "defaultValue": "",
      "label": null,
      "name": "power",
      "options": {
       "widgetType": "text",
       "autoCreated": true,
       "validationRegex": null
      }
     }
    },
    "powerState": {
     "currentValue": "",
     "nuid": "41a24393-6028-4ed6-a3f5-d74d680d55f0",
     "typedWidgetInfo": {
      "autoCreated": true,
      "defaultValue": "",
      "label": null,
      "name": "powerState",
      "options": {
       "widgetDisplayType": "Text",
       "validationRegex": null
      },
      "parameterDataType": "String"
     },
     "widgetInfo": {
      "widgetType": "text",
      "defaultValue": "",
      "label": null,
      "name": "powerState",
      "options": {
       "widgetType": "text",
       "autoCreated": true,
       "validationRegex": null
      }
     }
    },
    "state": {
     "currentValue": "",
     "nuid": "a9233ac2-f69e-48e1-9513-3f10a38cea96",
     "typedWidgetInfo": {
      "autoCreated": true,
      "defaultValue": "",
      "label": null,
      "name": "state",
      "options": {
       "widgetDisplayType": "Text",
       "validationRegex": null
      },
      "parameterDataType": "String"
     },
     "widgetInfo": {
      "widgetType": "text",
      "defaultValue": "",
      "label": null,
      "name": "state",
      "options": {
       "widgetType": "text",
       "autoCreated": true,
       "validationRegex": null
      }
     }
    },
    "valid_from": {
     "currentValue": "",
     "nuid": "57200681-a8d6-4f39-954a-186057847e91",
     "typedWidgetInfo": {
      "autoCreated": true,
      "defaultValue": "",
      "label": null,
      "name": "valid_from",
      "options": {
       "widgetDisplayType": "Text",
       "validationRegex": null
      },
      "parameterDataType": "String"
     },
     "widgetInfo": {
      "widgetType": "text",
      "defaultValue": "",
      "label": null,
      "name": "valid_from",
      "options": {
       "widgetType": "text",
       "autoCreated": true,
       "validationRegex": null
      }
     }
    },
    "valid_to": {
     "currentValue": "",
     "nuid": "05dc1bc4-3347-4604-91bb-c6e1f886aa2b",
     "typedWidgetInfo": {
      "autoCreated": true,
      "defaultValue": "",
      "label": null,
      "name": "valid_to",
      "options": {
       "widgetDisplayType": "Text",
       "validationRegex": null
      },
      "parameterDataType": "String"
     },
     "widgetInfo": {
      "widgetType": "text",
      "defaultValue": "",
      "label": null,
      "name": "valid_to",
      "options": {
       "widgetType": "text",
       "autoCreated": true,
       "validationRegex": null
      }
     }
    }
   }
  },
  "language_info": {
   "name": "sql"
  }
 },
 "nbformat": 4,
 "nbformat_minor": 0
}
