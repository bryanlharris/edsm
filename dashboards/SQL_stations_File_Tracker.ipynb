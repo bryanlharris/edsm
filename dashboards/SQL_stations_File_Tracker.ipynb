{
 "cells": [
  {
   "cell_type": "code",
   "execution_count": 0,
   "metadata": {
    "application/vnd.databricks.v1+cell": {
     "cellMetadata": {
      "byteLimit": 2048000,
      "rowLimit": 10000
     },
     "inputWidgets": {},
     "nuid": "d124e080-cb1e-472b-9777-9e0f95b6d979",
     "showTitle": false,
     "tableResultSettingsMap": {},
     "title": ""
    }
   },
   "outputs": [],
   "source": [
    "WITH silver_versions AS (\n",
    "    SELECT\n",
    "        s.valid_from,\n",
    "        s.valid_to,\n",
    "        s.id,\n",
    "        s.name,\n",
    "        s.systemId,\n",
    "        s.systemName,\n",
    "        s.distanceToArrival,\n",
    "        s.type,\n",
    "        s.government,\n",
    "        s.allegiance,\n",
    "        s.controllingFaction.name AS faction,\n",
    "        s.haveMarket,\n",
    "        s.haveOutfitting,\n",
    "        s.haveShipyard\n",
    "    FROM edsm.silver.stations s\n",
    "    WHERE (\n",
    "        (TRY_CAST(NULLIF(:`id`, '') AS BIGINT) IS NULL OR s.id = TRY_CAST(NULLIF(:`id`, '') AS BIGINT))\n",
    "        AND (NULLIF(:`name`, '') IS NULL OR s.name = NULLIF(:`name`, ''))\n",
    "        AND (TRY_CAST(:`valid_from` AS DATE) IS NULL OR DATE(s.valid_from) >= TRY_CAST(:`valid_from` AS DATE))\n",
    "        AND (TRY_CAST(:`valid_to` AS DATE) IS NULL OR DATE(s.valid_to) <= TRY_CAST(:`valid_to` AS DATE))\n",
    "        AND (TRY_CAST(NULLIF(:`systemId`, '') AS BIGINT) IS NULL OR s.systemId = TRY_CAST(NULLIF(:`systemId`, '') AS BIGINT))\n",
    "        AND (NULLIF(:`type`, '') IS NULL OR s.type = NULLIF(:`type`, ''))\n",
    "        AND (NULLIF(:`faction`, '') IS NULL OR s.controllingFaction.name = NULLIF(:`faction`, ''))\n",
    "        AND (NULLIF(:`government`, '') IS NULL OR s.government = NULLIF(:`government`, ''))\n",
    "        AND (NULLIF(:`allegiance`, '') IS NULL OR s.allegiance = NULLIF(:`allegiance`, ''))\n",
    "    )\n",
    ")\n",
    "SELECT\n",
    "    CAST(s.valid_from AS DATE) AS valid_from,\n",
    "    CAST(s.valid_to AS DATE) AS valid_to,\n",
    "    s.id,\n",
    "    s.name,\n",
    "    s.systemId,\n",
    "    s.systemName,\n",
    "    s.distanceToArrival,\n",
    "    s.type,\n",
    "    s.government,\n",
    "    s.allegiance,\n",
    "    s.faction,\n",
    "    s.haveMarket,\n",
    "    s.haveOutfitting,\n",
    "    s.haveShipyard,\n",
    "    b.derived_ingest_time,\n",
    "    b.source_metadata.file_path,\n",
    "    b.source_metadata.file_modification_time,\n",
    "    b._metadata.row_index\n",
    "FROM silver_versions s\n",
    "JOIN edsm.bronze.stations b\n",
    "  ON s.id = b.id\n",
    "  AND s.name = b.name\n",
    "  AND s.systemId = b.systemId\n",
    "  AND s.type = b.type\n",
    "  AND s.government = b.government\n",
    "  AND s.allegiance = b.allegiance\n",
    "  AND s.faction = b.controllingFaction.name\n",
    "WHERE b.derived_ingest_time BETWEEN s.valid_from AND s.valid_to\n",
    "ORDER BY s.valid_from, b.derived_ingest_time"
   ]
  }
 ],
 "metadata": {
  "application/vnd.databricks.v1+notebook": {
   "computePreferences": null,
   "dashboards": [],
   "environmentMetadata": {
    "base_environment": "",
    "environment_version": "3"
   },
   "inputWidgetPreferences": null,
   "language": "sql",
   "notebookMetadata": {
    "pythonIndentUnit": 4
   },
   "notebookName": "SQL_stations_File_Tracker",
   "widgets": {
    "allegiance": {
     "currentValue": "",
     "nuid": "7298c9a1-12e8-467c-97af-eb7162b1b36b",
     "typedWidgetInfo": {
      "autoCreated": true,
      "defaultValue": "",
      "label": null,
      "name": "allegiance",
      "options": {
       "widgetDisplayType": "Text",
       "validationRegex": null
      },
      "parameterDataType": "String"
     },
     "widgetInfo": {
      "widgetType": "text",
      "defaultValue": "",
      "label": null,
      "name": "allegiance",
      "options": {
       "widgetType": "text",
       "autoCreated": true,
       "validationRegex": null
      }
     }
    },
    "faction": {
     "currentValue": "",
     "nuid": "92fa2e2b-7676-4a93-baed-29b957f742d5",
     "typedWidgetInfo": {
      "autoCreated": true,
      "defaultValue": "",
      "label": null,
      "name": "faction",
      "options": {
       "widgetDisplayType": "Text",
       "validationRegex": null
      },
      "parameterDataType": "String"
     },
     "widgetInfo": {
      "widgetType": "text",
      "defaultValue": "",
      "label": null,
      "name": "faction",
      "options": {
       "widgetType": "text",
       "autoCreated": true,
       "validationRegex": null
      }
     }
    },
    "government": {
     "currentValue": "",
     "nuid": "5ad025a2-adba-4104-aa20-0f5ec0c55a88",
     "typedWidgetInfo": {
      "autoCreated": true,
      "defaultValue": "",
      "label": null,
      "name": "government",
      "options": {
       "widgetDisplayType": "Text",
       "validationRegex": null
      },
      "parameterDataType": "String"
     },
     "widgetInfo": {
      "widgetType": "text",
      "defaultValue": "",
      "label": null,
      "name": "government",
      "options": {
       "widgetType": "text",
       "autoCreated": true,
       "validationRegex": null
      }
     }
    },
    "id": {
     "currentValue": "",
     "nuid": "cb9653fb-a74b-43d8-9dad-63de84ec2dd3",
     "typedWidgetInfo": {
      "autoCreated": false,
      "defaultValue": "",
      "label": "",
      "name": "id",
      "options": {
       "widgetDisplayType": "Text",
       "validationRegex": null
      },
      "parameterDataType": "String"
     },
     "widgetInfo": {
      "widgetType": "text",
      "defaultValue": "",
      "label": "",
      "name": "id",
      "options": {
       "widgetType": "text",
       "autoCreated": false,
       "validationRegex": null
      }
     }
    },
    "name": {
     "currentValue": "",
     "nuid": "aedfc1b0-24e4-4feb-a824-f59258495349",
     "typedWidgetInfo": {
      "autoCreated": true,
      "defaultValue": "",
      "label": null,
      "name": "name",
      "options": {
       "widgetDisplayType": "Text",
       "validationRegex": null
      },
      "parameterDataType": "String"
     },
     "widgetInfo": {
      "widgetType": "text",
      "defaultValue": "",
      "label": null,
      "name": "name",
      "options": {
       "widgetType": "text",
       "autoCreated": true,
       "validationRegex": null
      }
     }
    },
    "systemId": {
     "currentValue": "",
     "nuid": "3c9aa036-9330-46b3-ab5e-7beaced13b74",
     "typedWidgetInfo": {
      "autoCreated": true,
      "defaultValue": "",
      "label": null,
      "name": "systemId",
      "options": {
       "widgetDisplayType": "Text",
       "validationRegex": null
      },
      "parameterDataType": "String"
     },
     "widgetInfo": {
      "widgetType": "text",
      "defaultValue": "",
      "label": null,
      "name": "systemId",
      "options": {
       "widgetType": "text",
       "autoCreated": true,
       "validationRegex": null
      }
     }
    },
    "type": {
     "currentValue": "",
     "nuid": "19698efe-5db3-43c8-bfec-2b0ae2ec306c",
     "typedWidgetInfo": {
      "autoCreated": true,
      "defaultValue": "",
      "label": null,
      "name": "type",
      "options": {
       "widgetDisplayType": "Text",
       "validationRegex": null
      },
      "parameterDataType": "String"
     },
     "widgetInfo": {
      "widgetType": "text",
      "defaultValue": "",
      "label": null,
      "name": "type",
      "options": {
       "widgetType": "text",
       "autoCreated": true,
       "validationRegex": null
      }
     }
    },
    "valid_from": {
     "currentValue": "2025-06-28",
     "nuid": "57200681-a8d6-4f39-954a-186057847e91",
     "typedWidgetInfo": {
      "autoCreated": true,
      "defaultValue": "",
      "label": null,
      "name": "valid_from",
      "options": {
       "widgetDisplayType": "Text",
       "validationRegex": null
      },
      "parameterDataType": "String"
     },
     "widgetInfo": {
      "widgetType": "text",
      "defaultValue": "",
      "label": null,
      "name": "valid_from",
      "options": {
       "widgetType": "text",
       "autoCreated": true,
       "validationRegex": null
      }
     }
    },
    "valid_to": {
     "currentValue": "",
     "nuid": "05dc1bc4-3347-4604-91bb-c6e1f886aa2b",
     "typedWidgetInfo": {
      "autoCreated": true,
      "defaultValue": "",
      "label": null,
      "name": "valid_to",
      "options": {
       "widgetDisplayType": "Text",
       "validationRegex": null
      },
      "parameterDataType": "String"
     },
     "widgetInfo": {
      "widgetType": "text",
      "defaultValue": "",
      "label": null,
      "name": "valid_to",
      "options": {
       "widgetType": "text",
       "autoCreated": true,
       "validationRegex": null
      }
     }
    }
   }
  },
  "language_info": {
   "name": "sql"
  }
 },
 "nbformat": 4,
 "nbformat_minor": 0
}
